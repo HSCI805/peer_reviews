{
  "cells": [
    {
      "cell_type": "markdown",
      "metadata": {
        "id": "view-in-github",
        "colab_type": "text"
      },
      "source": [
        "<a href=\"https://colab.research.google.com/github/HSCI805/peer_reviews/blob/main/4494.ipynb\" target=\"_parent\"><img src=\"https://colab.research.google.com/assets/colab-badge.svg\" alt=\"Open In Colab\"/></a>"
      ]
    },
    {
      "cell_type": "markdown",
      "metadata": {
        "id": "A-g3heOEdbRB"
      },
      "source": [
        "# Project 4494"
      ]
    },
    {
      "cell_type": "markdown",
      "source": [
        "# 0) Set up\n",
        "\n",
        "(installation should take less than 2 minutes)"
      ],
      "metadata": {
        "id": "OuYukcp6bdMo"
      }
    },
    {
      "cell_type": "code",
      "source": [
        "if ( !require('survey') )\n",
        "{\n",
        "  install.packages(\"survey\")\n",
        "  library(survey)\n",
        "}"
      ],
      "metadata": {
        "colab": {
          "base_uri": "https://localhost:8080/"
        },
        "id": "UV8n4t1Iben2",
        "outputId": "78a347c2-abf4-44a4-e0a1-47c720709daf"
      },
      "execution_count": null,
      "outputs": [
        {
          "output_type": "stream",
          "name": "stderr",
          "text": [
            "Loading required package: survey\n",
            "\n",
            "Warning message in library(package, lib.loc = lib.loc, character.only = TRUE, logical.return = TRUE, :\n",
            "“there is no package called ‘survey’”\n",
            "Installing package into ‘/usr/local/lib/R/site-library’\n",
            "(as ‘lib’ is unspecified)\n",
            "\n",
            "also installing the dependencies ‘Rcpp’, ‘minqa’, ‘numDeriv’, ‘mitools’\n",
            "\n",
            "\n",
            "Loading required package: grid\n",
            "\n",
            "Loading required package: Matrix\n",
            "\n",
            "Loading required package: survival\n",
            "\n",
            "\n",
            "Attaching package: ‘survey’\n",
            "\n",
            "\n",
            "The following object is masked from ‘package:graphics’:\n",
            "\n",
            "    dotchart\n",
            "\n",
            "\n"
          ]
        }
      ]
    },
    {
      "cell_type": "code",
      "source": [
        "### import NHANES data using nhanesA\n",
        "#library(nhanesA)\n",
        "library(knitr)\n",
        "library(dplyr)\n",
        "#library(crosstable)\n",
        "#library(readxl)\n",
        "library(ggplot2)\n",
        "#library(survey)"
      ],
      "metadata": {
        "id": "OUMQTW3OZ_fF",
        "colab": {
          "base_uri": "https://localhost:8080/"
        },
        "outputId": "4652aa7f-2e14-489a-adaa-69a224afd551"
      },
      "execution_count": null,
      "outputs": [
        {
          "output_type": "stream",
          "name": "stderr",
          "text": [
            "\n",
            "Attaching package: ‘dplyr’\n",
            "\n",
            "\n",
            "The following objects are masked from ‘package:stats’:\n",
            "\n",
            "    filter, lag\n",
            "\n",
            "\n",
            "The following objects are masked from ‘package:base’:\n",
            "\n",
            "    intersect, setdiff, setequal, union\n",
            "\n",
            "\n"
          ]
        }
      ]
    },
    {
      "cell_type": "markdown",
      "source": [
        "# 1) Load preliminary data"
      ],
      "metadata": {
        "id": "nrr5GkbPMkxf"
      }
    },
    {
      "cell_type": "code",
      "source": [
        "data_NHANES0 <- read.csv('https://raw.githubusercontent.com/HSCI805/peer_reviews/main/He2022/nhanes_before.csv')"
      ],
      "metadata": {
        "id": "2dB_gbwWMzJq"
      },
      "execution_count": null,
      "outputs": []
    },
    {
      "cell_type": "code",
      "source": [
        "dim(data_NHANES0)"
      ],
      "metadata": {
        "colab": {
          "base_uri": "https://localhost:8080/",
          "height": 34
        },
        "id": "r372S6FJUAEU",
        "outputId": "02a09595-1ac2-4e46-d3f4-6683f29871cb"
      },
      "execution_count": null,
      "outputs": [
        {
          "output_type": "display_data",
          "data": {
            "text/html": [
              "<style>\n",
              ".list-inline {list-style: none; margin:0; padding: 0}\n",
              ".list-inline>li {display: inline-block}\n",
              ".list-inline>li:not(:last-child)::after {content: \"\\00b7\"; padding: 0 .5ex}\n",
              "</style>\n",
              "<ol class=list-inline><li>101316</li><li>18</li></ol>\n"
            ],
            "text/markdown": "1. 101316\n2. 18\n\n\n",
            "text/latex": "\\begin{enumerate*}\n\\item 101316\n\\item 18\n\\end{enumerate*}\n",
            "text/plain": [
              "[1] 101316     18"
            ]
          },
          "metadata": {}
        }
      ]
    },
    {
      "cell_type": "code",
      "source": [
        "head(data_NHANES0, 3)"
      ],
      "metadata": {
        "colab": {
          "base_uri": "https://localhost:8080/",
          "height": 262
        },
        "id": "ihzUdvTJNrYR",
        "outputId": "2ec1eb3c-be2b-4a84-d501-25d281d7c982"
      },
      "execution_count": null,
      "outputs": [
        {
          "output_type": "display_data",
          "data": {
            "text/html": [
              "<table class=\"dataframe\">\n",
              "<caption>A data.frame: 3 × 18</caption>\n",
              "<thead>\n",
              "\t<tr><th></th><th scope=col>X</th><th scope=col>UID</th><th scope=col>Gender</th><th scope=col>Age_y</th><th scope=col>Ethnicity</th><th scope=col>Ref_gend</th><th scope=col>Ref_age</th><th scope=col>Red_edu</th><th scope=col>Ref_marital</th><th scope=col>Povratio</th><th scope=col>WTINT2YR</th><th scope=col>WTMEC2YR</th><th scope=col>SDMVPSU</th><th scope=col>SDMVSTRA</th><th scope=col>BMI</th><th scope=col>Cotinine</th><th scope=col>Asthma</th><th scope=col>Smoke_home</th></tr>\n",
              "\t<tr><th></th><th scope=col>&lt;int&gt;</th><th scope=col>&lt;dbl&gt;</th><th scope=col>&lt;chr&gt;</th><th scope=col>&lt;int&gt;</th><th scope=col>&lt;chr&gt;</th><th scope=col>&lt;chr&gt;</th><th scope=col>&lt;chr&gt;</th><th scope=col>&lt;chr&gt;</th><th scope=col>&lt;chr&gt;</th><th scope=col>&lt;dbl&gt;</th><th scope=col>&lt;dbl&gt;</th><th scope=col>&lt;dbl&gt;</th><th scope=col>&lt;int&gt;</th><th scope=col>&lt;int&gt;</th><th scope=col>&lt;dbl&gt;</th><th scope=col>&lt;dbl&gt;</th><th scope=col>&lt;chr&gt;</th><th scope=col>&lt;chr&gt;</th></tr>\n",
              "</thead>\n",
              "<tbody>\n",
              "\t<tr><th scope=row>1</th><td>1</td><td>1</td><td>Female</td><td> 2</td><td>Non-Hispanic Black</td><td>Female</td><td>27</td><td>High School Grad/GED or equivale</td><td>Never married</td><td>0.86</td><td> 9727.079</td><td>10982.90</td><td>1</td><td>5</td><td>14.90</td><td>   NA</td><td>No</td><td>No </td></tr>\n",
              "\t<tr><th scope=row>2</th><td>2</td><td>2</td><td>Male  </td><td>77</td><td>Non-Hispanic White</td><td>Male  </td><td>77</td><td>College Graduate or above       </td><td>NA           </td><td>5.00</td><td>26678.636</td><td>28325.38</td><td>3</td><td>1</td><td>24.90</td><td>0.035</td><td>No</td><td>No </td></tr>\n",
              "\t<tr><th scope=row>3</th><td>3</td><td>3</td><td>Female</td><td>10</td><td>Non-Hispanic White</td><td>Male  </td><td>37</td><td>Some College or AA degree       </td><td>Married      </td><td>1.47</td><td>43621.681</td><td>46192.26</td><td>2</td><td>7</td><td>17.63</td><td>0.060</td><td>No</td><td>Yes</td></tr>\n",
              "</tbody>\n",
              "</table>\n"
            ],
            "text/markdown": "\nA data.frame: 3 × 18\n\n| <!--/--> | X &lt;int&gt; | UID &lt;dbl&gt; | Gender &lt;chr&gt; | Age_y &lt;int&gt; | Ethnicity &lt;chr&gt; | Ref_gend &lt;chr&gt; | Ref_age &lt;chr&gt; | Red_edu &lt;chr&gt; | Ref_marital &lt;chr&gt; | Povratio &lt;dbl&gt; | WTINT2YR &lt;dbl&gt; | WTMEC2YR &lt;dbl&gt; | SDMVPSU &lt;int&gt; | SDMVSTRA &lt;int&gt; | BMI &lt;dbl&gt; | Cotinine &lt;dbl&gt; | Asthma &lt;chr&gt; | Smoke_home &lt;chr&gt; |\n|---|---|---|---|---|---|---|---|---|---|---|---|---|---|---|---|---|---|---|\n| 1 | 1 | 1 | Female |  2 | Non-Hispanic Black | Female | 27 | High School Grad/GED or equivale | Never married | 0.86 |  9727.079 | 10982.90 | 1 | 5 | 14.90 |    NA | No | No  |\n| 2 | 2 | 2 | Male   | 77 | Non-Hispanic White | Male   | 77 | College Graduate or above        | NA            | 5.00 | 26678.636 | 28325.38 | 3 | 1 | 24.90 | 0.035 | No | No  |\n| 3 | 3 | 3 | Female | 10 | Non-Hispanic White | Male   | 37 | Some College or AA degree        | Married       | 1.47 | 43621.681 | 46192.26 | 2 | 7 | 17.63 | 0.060 | No | Yes |\n\n",
            "text/latex": "A data.frame: 3 × 18\n\\begin{tabular}{r|llllllllllllllllll}\n  & X & UID & Gender & Age\\_y & Ethnicity & Ref\\_gend & Ref\\_age & Red\\_edu & Ref\\_marital & Povratio & WTINT2YR & WTMEC2YR & SDMVPSU & SDMVSTRA & BMI & Cotinine & Asthma & Smoke\\_home\\\\\n  & <int> & <dbl> & <chr> & <int> & <chr> & <chr> & <chr> & <chr> & <chr> & <dbl> & <dbl> & <dbl> & <int> & <int> & <dbl> & <dbl> & <chr> & <chr>\\\\\n\\hline\n\t1 & 1 & 1 & Female &  2 & Non-Hispanic Black & Female & 27 & High School Grad/GED or equivale & Never married & 0.86 &  9727.079 & 10982.90 & 1 & 5 & 14.90 &    NA & No & No \\\\\n\t2 & 2 & 2 & Male   & 77 & Non-Hispanic White & Male   & 77 & College Graduate or above        & NA            & 5.00 & 26678.636 & 28325.38 & 3 & 1 & 24.90 & 0.035 & No & No \\\\\n\t3 & 3 & 3 & Female & 10 & Non-Hispanic White & Male   & 37 & Some College or AA degree        & Married       & 1.47 & 43621.681 & 46192.26 & 2 & 7 & 17.63 & 0.060 & No & Yes\\\\\n\\end{tabular}\n",
            "text/plain": [
              "  X UID Gender Age_y Ethnicity          Ref_gend Ref_age\n",
              "1 1 1   Female  2    Non-Hispanic Black Female   27     \n",
              "2 2 2   Male   77    Non-Hispanic White Male     77     \n",
              "3 3 3   Female 10    Non-Hispanic White Male     37     \n",
              "  Red_edu                          Ref_marital   Povratio WTINT2YR  WTMEC2YR\n",
              "1 High School Grad/GED or equivale Never married 0.86      9727.079 10982.90\n",
              "2 College Graduate or above        NA            5.00     26678.636 28325.38\n",
              "3 Some College or AA degree        Married       1.47     43621.681 46192.26\n",
              "  SDMVPSU SDMVSTRA BMI   Cotinine Asthma Smoke_home\n",
              "1 1       5        14.90    NA    No     No        \n",
              "2 3       1        24.90 0.035    No     No        \n",
              "3 2       7        17.63 0.060    No     Yes       "
            ]
          },
          "metadata": {}
        }
      ]
    },
    {
      "cell_type": "code",
      "source": [
        "unique(data_NHANES0$Cotinine)[1:10]"
      ],
      "metadata": {
        "colab": {
          "base_uri": "https://localhost:8080/",
          "height": 34
        },
        "id": "b3LEgx8dProD",
        "outputId": "1b03e911-26dd-47fa-a791-1c560176c544"
      },
      "execution_count": null,
      "outputs": [
        {
          "output_type": "display_data",
          "data": {
            "text/html": [
              "<style>\n",
              ".list-inline {list-style: none; margin:0; padding: 0}\n",
              ".list-inline>li {display: inline-block}\n",
              ".list-inline>li:not(:last-child)::after {content: \"\\00b7\"; padding: 0 .5ex}\n",
              "</style>\n",
              "<ol class=list-inline><li>&lt;NA&gt;</li><li>0.035</li><li>0.06</li><li>1.81</li><li>0.071</li><li>0.09</li><li>2.62</li><li>374.58</li><li>0.13</li><li>0.34</li></ol>\n"
            ],
            "text/markdown": "1. &lt;NA&gt;\n2. 0.035\n3. 0.06\n4. 1.81\n5. 0.071\n6. 0.09\n7. 2.62\n8. 374.58\n9. 0.13\n10. 0.34\n\n\n",
            "text/latex": "\\begin{enumerate*}\n\\item <NA>\n\\item 0.035\n\\item 0.06\n\\item 1.81\n\\item 0.071\n\\item 0.09\n\\item 2.62\n\\item 374.58\n\\item 0.13\n\\item 0.34\n\\end{enumerate*}\n",
            "text/plain": [
              " [1]      NA   0.035   0.060   1.810   0.071   0.090   2.620 374.580   0.130\n",
              "[10]   0.340"
            ]
          },
          "metadata": {}
        }
      ]
    },
    {
      "cell_type": "markdown",
      "source": [
        "# 2) Define study population "
      ],
      "metadata": {
        "id": "bnSZZzAjmzy_"
      }
    },
    {
      "cell_type": "code",
      "source": [
        "######## ELIGIBILITY CRITERIA #############\n",
        "## Aged 3 to 12 years old, \n",
        "## with cotinine levels \n",
        "## with BMI data\n",
        "## with asthma data\n",
        "\n",
        "data_NHANES1 <- data_NHANES0 %>%\n",
        "  mutate(eligible = case_when(\n",
        "    Age_y %in% 3:12 & ## when age is between 3 and 12 AND\n",
        "      (!is.na(Cotinine)) & ## Cotinine is not NA AND\n",
        "      (!is.na(BMI)) & ## BMI is not NA AND\n",
        "      (!is.na(Asthma)) ## asthma is not NA, then make 1\n",
        "      ~ 1, \n",
        "    TRUE ~ 0))"
      ],
      "metadata": {
        "id": "ZD63ZV9cNxui"
      },
      "execution_count": null,
      "outputs": []
    },
    {
      "cell_type": "markdown",
      "source": [
        "## Aside from LT: below will give equivalent result"
      ],
      "metadata": {
        "id": "uWWRQz7ZmwRZ"
      }
    },
    {
      "cell_type": "code",
      "source": [
        "indx <-(  !is.na(data_NHANES0$Cotinine) &\n",
        "          !is.na(data_NHANES0$Asthma) & \n",
        "          !is.na(data_NHANES0$BMI) & \n",
        "            (data_NHANES0$Age_y >2 ) & (data_NHANES0$Age_y < 13 ) )\n",
        "\n",
        "dim( data_NHANES0[ indx, ] )"
      ],
      "metadata": {
        "colab": {
          "base_uri": "https://localhost:8080/",
          "height": 34
        },
        "id": "KcI-2mzdWRgt",
        "outputId": "d610ae03-5cf4-49df-cd37-f06f222d530e"
      },
      "execution_count": null,
      "outputs": [
        {
          "output_type": "display_data",
          "data": {
            "text/html": [
              "<style>\n",
              ".list-inline {list-style: none; margin:0; padding: 0}\n",
              ".list-inline>li {display: inline-block}\n",
              ".list-inline>li:not(:last-child)::after {content: \"\\00b7\"; padding: 0 .5ex}\n",
              "</style>\n",
              "<ol class=list-inline><li>13302</li><li>18</li></ol>\n"
            ],
            "text/markdown": "1. 13302\n2. 18\n\n\n",
            "text/latex": "\\begin{enumerate*}\n\\item 13302\n\\item 18\n\\end{enumerate*}\n",
            "text/plain": [
              "[1] 13302    18"
            ]
          },
          "metadata": {}
        }
      ]
    },
    {
      "cell_type": "code",
      "source": [
        "##subset data to only participants with eligible == 1\n",
        "\n",
        "data_NHANES2<-filter(data_NHANES1, eligible == 1)\n",
        "\n",
        "dim(data_NHANES2)"
      ],
      "metadata": {
        "colab": {
          "base_uri": "https://localhost:8080/",
          "height": 34
        },
        "id": "YKfA5kj_N0jX",
        "outputId": "ab8b143d-8b76-4568-eca6-ace63baf1988"
      },
      "execution_count": null,
      "outputs": [
        {
          "output_type": "display_data",
          "data": {
            "text/html": [
              "<style>\n",
              ".list-inline {list-style: none; margin:0; padding: 0}\n",
              ".list-inline>li {display: inline-block}\n",
              ".list-inline>li:not(:last-child)::after {content: \"\\00b7\"; padding: 0 .5ex}\n",
              "</style>\n",
              "<ol class=list-inline><li>13302</li><li>19</li></ol>\n"
            ],
            "text/markdown": "1. 13302\n2. 19\n\n\n",
            "text/latex": "\\begin{enumerate*}\n\\item 13302\n\\item 19\n\\end{enumerate*}\n",
            "text/plain": [
              "[1] 13302    19"
            ]
          },
          "metadata": {}
        }
      ]
    },
    {
      "cell_type": "code",
      "source": [
        "13302-14954"
      ],
      "metadata": {
        "colab": {
          "base_uri": "https://localhost:8080/",
          "height": 34
        },
        "id": "4EBpGWLQWGt-",
        "outputId": "5232ff41-6d2f-488e-8202-5abce015fa15"
      },
      "execution_count": null,
      "outputs": [
        {
          "output_type": "display_data",
          "data": {
            "text/html": [
              "-1652"
            ],
            "text/markdown": "-1652",
            "text/latex": "-1652",
            "text/plain": [
              "[1] -1652"
            ]
          },
          "metadata": {}
        }
      ]
    },
    {
      "cell_type": "code",
      "source": [
        "## additional exclusion criteria\n",
        "## DEMOGRAPHIC VARIABLES THAT FURTHER EXCLUSION\n",
        "## FAMILY PIR MISSING\n",
        "## GENDER OF REF MISSING\n",
        "## EDUCATION OF REF MISSING\n",
        "## MARTIAL STATUS OF REF MISSING\n",
        "\n",
        "### calculate the number of individuals from each group that do not meet criteria\n",
        "\n",
        "paste0('Omitted due to NA in POV ratio: ', sum(is.na(data_NHANES2$Povratio)))\n",
        "paste0('Omitted due to NA in ref gender: ', sum(is.na(data_NHANES2$Ref_gend)))\n",
        "paste0('Omitted due to NA in ref education level: ', sum(is.na(data_NHANES2$Red_edu)) )\n",
        "paste0('Omitted due to NA in ref marital status: ', sum(is.na(data_NHANES2$Ref_marital)) )\n",
        "941+4+401+521\n",
        "13302-1867\n",
        "\n",
        "data_NHANES3 <-filter(data_NHANES2, (!is.na(Povratio)) & ## poverty ratio is not NA\n",
        "                      (!is.na(Ref_gend)) & # reference gender is not NA\n",
        "                      (!is.na(Red_edu)) & # reference education is not NA\n",
        "                      (!is.na(Ref_marital)) ) # reference martial status is not NA"
      ],
      "metadata": {
        "colab": {
          "base_uri": "https://localhost:8080/",
          "height": 121
        },
        "id": "Nvat2UorN6Ey",
        "outputId": "e1bbcb62-cc3b-4671-9f2a-42d81284b62b"
      },
      "execution_count": null,
      "outputs": [
        {
          "output_type": "display_data",
          "data": {
            "text/html": [
              "'Omitted due to NA in POV ratio: 941'"
            ],
            "text/markdown": "'Omitted due to NA in POV ratio: 941'",
            "text/latex": "'Omitted due to NA in POV ratio: 941'",
            "text/plain": [
              "[1] \"Omitted due to NA in POV ratio: 941\""
            ]
          },
          "metadata": {}
        },
        {
          "output_type": "display_data",
          "data": {
            "text/html": [
              "'Omitted due to NA in ref gender: 4'"
            ],
            "text/markdown": "'Omitted due to NA in ref gender: 4'",
            "text/latex": "'Omitted due to NA in ref gender: 4'",
            "text/plain": [
              "[1] \"Omitted due to NA in ref gender: 4\""
            ]
          },
          "metadata": {}
        },
        {
          "output_type": "display_data",
          "data": {
            "text/html": [
              "'Omitted due to NA in ref education level: 401'"
            ],
            "text/markdown": "'Omitted due to NA in ref education level: 401'",
            "text/latex": "'Omitted due to NA in ref education level: 401'",
            "text/plain": [
              "[1] \"Omitted due to NA in ref education level: 401\""
            ]
          },
          "metadata": {}
        },
        {
          "output_type": "display_data",
          "data": {
            "text/html": [
              "'Omitted due to NA in ref marital status: 521'"
            ],
            "text/markdown": "'Omitted due to NA in ref marital status: 521'",
            "text/latex": "'Omitted due to NA in ref marital status: 521'",
            "text/plain": [
              "[1] \"Omitted due to NA in ref marital status: 521\""
            ]
          },
          "metadata": {}
        },
        {
          "output_type": "display_data",
          "data": {
            "text/html": [
              "1867"
            ],
            "text/markdown": "1867",
            "text/latex": "1867",
            "text/plain": [
              "[1] 1867"
            ]
          },
          "metadata": {}
        },
        {
          "output_type": "display_data",
          "data": {
            "text/html": [
              "11435"
            ],
            "text/markdown": "11435",
            "text/latex": "11435",
            "text/plain": [
              "[1] 11435"
            ]
          },
          "metadata": {}
        }
      ]
    },
    {
      "cell_type": "markdown",
      "source": [
        "# 3) Determine cut-off "
      ],
      "metadata": {
        "id": "7hRNJ3_GdMTD"
      }
    },
    {
      "cell_type": "markdown",
      "source": [
        "\"In this analysis, we used a serum cotinine \n",
        "cutof of 0.0436 ng/mL (median) to defne serum cotinine \n",
        "levels, with<0.0436  ng/mL as low-level serum cotinine \n",
        "and≥0.0436 ng/mL as high-level serum cotinine\" He et al. 2022\n"
      ],
      "metadata": {
        "id": "Z0hhP106dmC2"
      }
    },
    {
      "cell_type": "code",
      "source": [
        "### recategorize variables for Cotinine and BMI\n",
        "##cotinine-- above and below median value\n",
        "\n",
        "median(data_NHANES3$Cotinine) ## MEdian is 0.047"
      ],
      "metadata": {
        "colab": {
          "base_uri": "https://localhost:8080/",
          "height": 34
        },
        "id": "C_ykosx4dJGn",
        "outputId": "59a225f4-e5b0-4673-f495-990ebff67900"
      },
      "execution_count": null,
      "outputs": [
        {
          "output_type": "display_data",
          "data": {
            "text/html": [
              "0.047"
            ],
            "text/markdown": "0.047",
            "text/latex": "0.047",
            "text/plain": [
              "[1] 0.047"
            ]
          },
          "metadata": {}
        }
      ]
    },
    {
      "cell_type": "code",
      "source": [
        "data_NHANES4<- data_NHANES3%>%\n",
        "  mutate(Cotinine_group = case_when(\n",
        "    Cotinine < 0.047 ~ \"low\",\n",
        "    Cotinine >= 0.047 ~ \"high\",\n",
        "  ))\n",
        "\n",
        "#Change to factor\n",
        "data_NHANES4$Cotinine_group<-as.factor(data_NHANES4$Cotinine_group)\n",
        "\n",
        "## BMI\n",
        "### calculate z-score then categorize\n",
        "data_NHANES4$BMI_z <- (data_NHANES4$BMI-mean(data_NHANES4$BMI))/sd(data_NHANES4$BMI)"
      ],
      "metadata": {
        "id": "NZFQvUyxdLfn"
      },
      "execution_count": null,
      "outputs": []
    },
    {
      "cell_type": "markdown",
      "source": [
        "# 4) Check on BMI"
      ],
      "metadata": {
        "id": "GTmxdqR-dsQO"
      }
    },
    {
      "cell_type": "code",
      "source": [
        "hist(data_NHANES4$BMI_z)"
      ],
      "metadata": {
        "colab": {
          "base_uri": "https://localhost:8080/",
          "height": 437
        },
        "id": "suQQMnwAdikA",
        "outputId": "8f426829-8c6c-4978-b306-7b9260d6470b"
      },
      "execution_count": null,
      "outputs": [
        {
          "output_type": "display_data",
          "data": {
            "text/plain": [
              "Plot with title “Histogram of data_NHANES4$BMI_z”"
            ],
            "image/png": "[encoded data removed]"
          },
          "metadata": {
            "image/png": {
              "width": 420,
              "height": 420
            }
          }
        }
      ]
    },
    {
      "cell_type": "markdown",
      "source": [
        "\"The sex-specifc BMI (body mass index)-for-age ref\u0002erence of Centers for Disease Control and Prevention \n",
        "(CDC) and LMS method were used to calculate the BMI \n",
        "z-score [15]. Subjects were categorized based on BMI \n",
        "percentiles as follows: Group A [underweight and normal \n",
        "weight (<85th percentile)], Group B [overweight (≥85th \n",
        "percentile to<95th percentile)], and Group C [obesity \n",
        "(≥95th percentile)] [15], which was consistent with other \n",
        "epidemiological studies [14, 16].\" He et al. 2022"
      ],
      "metadata": {
        "id": "jLn1vTpqd0TM"
      }
    },
    {
      "cell_type": "code",
      "source": [
        "## find 85th and 95th percentile\n",
        "\n",
        "(bmi_cut_offs <-quantile(data_NHANES4$BMI_z, probs = c(.85, .95)))"
      ],
      "metadata": {
        "colab": {
          "base_uri": "https://localhost:8080/",
          "height": 34
        },
        "id": "ZGY2sfB1dqKG",
        "outputId": "1cb1ecf7-d61a-406a-9b5f-74500456135d"
      },
      "execution_count": null,
      "outputs": [
        {
          "output_type": "display_data",
          "data": {
            "text/html": [
              "<style>\n",
              ".dl-inline {width: auto; margin:0; padding: 0}\n",
              ".dl-inline>dt, .dl-inline>dd {float: none; width: auto; display: inline-block}\n",
              ".dl-inline>dt::after {content: \":\\0020\"; padding-right: .5ex}\n",
              ".dl-inline>dt:not(:first-of-type) {padding-left: .5ex}\n",
              "</style><dl class=dl-inline><dt>85%</dt><dd>0.990598812723204</dd><dt>95%</dt><dd>2.06926517308508</dd></dl>\n"
            ],
            "text/markdown": "85%\n:   0.99059881272320495%\n:   2.06926517308508\n\n",
            "text/latex": "\\begin{description*}\n\\item[85\\textbackslash{}\\%] 0.990598812723204\n\\item[95\\textbackslash{}\\%] 2.06926517308508\n\\end{description*}\n",
            "text/plain": [
              "      85%       95% \n",
              "0.9905988 2.0692652 "
            ]
          },
          "metadata": {}
        }
      ]
    },
    {
      "cell_type": "code",
      "source": [
        "## create BMI groups:\n",
        "## Group A: under/normal weight- (<85th percentile)\n",
        "## Group B: overweight (≥ 85th percentile to < 95th percentile)\n",
        "## Group c: obesity (≥ 95th percentile)\n",
        "\n",
        "## Use casewhen to create BMI category\n",
        "data_NHANES4<- data_NHANES4%>%\n",
        "  mutate(BMI_group = case_when(\n",
        "    BMI_z < 0.9905988 ~ \"under/normal weight\", \n",
        "    BMI_z %in% 0.9905988:2.0692652~ \"overweight\",\n",
        "    BMI_z >= 2.0692652 ~ \"obese\",\n",
        "    TRUE~ \"overweight\"\n",
        "  ))\n",
        "table(data_NHANES4$BMI_group)"
      ],
      "metadata": {
        "colab": {
          "base_uri": "https://localhost:8080/",
          "height": 69
        },
        "id": "4o-XJ4ZadsLZ",
        "outputId": "1c53af32-a253-491b-d052-5c697223a5ca"
      },
      "execution_count": null,
      "outputs": [
        {
          "output_type": "display_data",
          "data": {
            "text/plain": [
              "\n",
              "              obese          overweight under/normal weight \n",
              "                579                1167                9858 "
            ]
          },
          "metadata": {}
        }
      ]
    },
    {
      "cell_type": "markdown",
      "source": [
        "## Aside from LT: below avoids manual specification of constants via variable\n"
      ],
      "metadata": {
        "id": "tmwp6jPBf5xs"
      }
    },
    {
      "cell_type": "code",
      "source": [
        "data_NHANES4b <- data_NHANES4 %>%\n",
        "  mutate(BMI_group = case_when(\n",
        "    BMI_z < bmi_cut_offs[1] ~ \"under/normal weight\", \n",
        "    BMI_z %in% bmi_cut_offs[1]:bmi_cut_offs[2] ~ \"overweight\",\n",
        "    BMI_z >= bmi_cut_offs[1]  ~ \"obese\",\n",
        "    TRUE~ \"overweight\"\n",
        "  ))"
      ],
      "metadata": {
        "id": "YWxOrStqeBul"
      },
      "execution_count": null,
      "outputs": []
    },
    {
      "cell_type": "code",
      "source": [
        "# check\n",
        "dim(data_NHANES4) \n",
        "dim(data_NHANES4b) "
      ],
      "metadata": {
        "colab": {
          "base_uri": "https://localhost:8080/",
          "height": 52
        },
        "id": "aLm91IC4fG38",
        "outputId": "87f74063-bd6d-427e-d3a4-a6cbc24eb1f2"
      },
      "execution_count": null,
      "outputs": [
        {
          "output_type": "display_data",
          "data": {
            "text/html": [
              "<style>\n",
              ".list-inline {list-style: none; margin:0; padding: 0}\n",
              ".list-inline>li {display: inline-block}\n",
              ".list-inline>li:not(:last-child)::after {content: \"\\00b7\"; padding: 0 .5ex}\n",
              "</style>\n",
              "<ol class=list-inline><li>11604</li><li>22</li></ol>\n"
            ],
            "text/markdown": "1. 11604\n2. 22\n\n\n",
            "text/latex": "\\begin{enumerate*}\n\\item 11604\n\\item 22\n\\end{enumerate*}\n",
            "text/plain": [
              "[1] 11604    22"
            ]
          },
          "metadata": {}
        },
        {
          "output_type": "display_data",
          "data": {
            "text/html": [
              "<style>\n",
              ".list-inline {list-style: none; margin:0; padding: 0}\n",
              ".list-inline>li {display: inline-block}\n",
              ".list-inline>li:not(:last-child)::after {content: \"\\00b7\"; padding: 0 .5ex}\n",
              "</style>\n",
              "<ol class=list-inline><li>11604</li><li>22</li></ol>\n"
            ],
            "text/markdown": "1. 11604\n2. 22\n\n\n",
            "text/latex": "\\begin{enumerate*}\n\\item 11604\n\\item 22\n\\end{enumerate*}\n",
            "text/plain": [
              "[1] 11604    22"
            ]
          },
          "metadata": {}
        }
      ]
    },
    {
      "cell_type": "markdown",
      "source": [
        "# 5) Prepare other variables"
      ],
      "metadata": {
        "id": "LUD_f5CgfzJi"
      }
    },
    {
      "cell_type": "code",
      "source": [
        "### Recategorize messy variables\n",
        "\n",
        "## smoked in home\n",
        "data_NHANES5<- data_NHANES4%>%\n",
        "  mutate(Smoke_home_group = case_when(\n",
        "    Smoke_home == \"No\" |\n",
        "    Smoke_home == \"No one in houseold is a smoker\" ~ \"No\",\n",
        "    Smoke_home == \"1 household member is a smoker\" |\n",
        "    Smoke_home == \"2 household members are smokers\" |\n",
        "    Smoke_home == \"3 or more household members are\" |\n",
        "    Smoke_home == \"Yes\" ~ \"Yes\",\n",
        "  ))"
      ],
      "metadata": {
        "id": "bpL7XQJadv5X"
      },
      "execution_count": null,
      "outputs": []
    },
    {
      "cell_type": "code",
      "source": [
        "##Martial status\n",
        "data_NHANES6<- data_NHANES5 %>%\n",
        "  mutate(Ref_marital_group = case_when(\n",
        "    Ref_marital == \"Divorced\" ~ \"Divorced\",\n",
        "    Ref_marital == \"Living with partner\" ~ \"Living with partner\",\n",
        "    Ref_marital == \"Married\" |\n",
        "    Ref_marital == \"Married/Living with partner\"~ \"Married\",\n",
        "    Ref_marital == \"Never married\" |\n",
        "    Ref_marital == \"Never Married\" ~ \"Never married\",\n",
        "    Ref_marital == \"Widowed/Divorced/Separated\"|\n",
        "    Ref_marital == \"Widowed\" ~ \"Widowed\",\n",
        "    Ref_marital == \"Separated\" ~ \"Separated\",\n",
        "  ))\n",
        "\n",
        "typeof(data_NHANES6$Ref_marital_group)"
      ],
      "metadata": {
        "colab": {
          "base_uri": "https://localhost:8080/",
          "height": 34
        },
        "id": "GibZNFMrdz4f",
        "outputId": "5ed77948-3ef6-4b11-e2fd-6a4f24d73d93"
      },
      "execution_count": null,
      "outputs": [
        {
          "output_type": "display_data",
          "data": {
            "text/html": [
              "'character'"
            ],
            "text/markdown": "'character'",
            "text/latex": "'character'",
            "text/plain": [
              "[1] \"character\""
            ]
          },
          "metadata": {}
        }
      ]
    },
    {
      "cell_type": "code",
      "source": [
        "data_NHANES7<- data_NHANES6%>%\n",
        "  mutate(Ref_edu_group = case_when(\n",
        "    Red_edu == \"Less Than 9th Grade\" ~ \"Less Than 9th Grade\",\n",
        "    Red_edu == \"Less than high school degree\" |\n",
        "    Red_edu == \"9-11th Grade (Includes 12th grad\"~ \"9-11th Grade\",\n",
        "    Red_edu == \"College graduate or above\" |\n",
        "    Red_edu == \"College Graduate or above\" ~ \"College graduate or higher\",\n",
        "    Red_edu == \"High school grad/GED or some col\" |\n",
        "    Red_edu == \"High School Grad/GED or equivale\" |\n",
        "    Red_edu == \"High School Grad/GED or Equivale\" ~ \"High school graduate\",\n",
        "    Red_edu == \"Some College or AA degree\" ~ \"Some College or AA degree\"\n",
        "  ))\n",
        "\n",
        "data_NHANES7$Ref_age<-as.numeric(data_NHANES7$Ref_age)\n",
        "\n",
        "dim(data_NHANES7)"
      ],
      "metadata": {
        "colab": {
          "base_uri": "https://localhost:8080/",
          "height": 69
        },
        "id": "Owl2P1Trd6wS",
        "outputId": "4c2907b0-a92f-4801-8772-ae3b7efbc843"
      },
      "execution_count": null,
      "outputs": [
        {
          "output_type": "stream",
          "name": "stderr",
          "text": [
            "Warning message in eval(expr, envir, enclos):\n",
            "“NAs introduced by coercion”\n"
          ]
        },
        {
          "output_type": "display_data",
          "data": {
            "text/html": [
              "<style>\n",
              ".list-inline {list-style: none; margin:0; padding: 0}\n",
              ".list-inline>li {display: inline-block}\n",
              ".list-inline>li:not(:last-child)::after {content: \"\\00b7\"; padding: 0 .5ex}\n",
              "</style>\n",
              "<ol class=list-inline><li>11604</li><li>25</li></ol>\n"
            ],
            "text/markdown": "1. 11604\n2. 25\n\n\n",
            "text/latex": "\\begin{enumerate*}\n\\item 11604\n\\item 25\n\\end{enumerate*}\n",
            "text/plain": [
              "[1] 11604    25"
            ]
          },
          "metadata": {}
        }
      ]
    },
    {
      "cell_type": "code",
      "source": [
        "#Reclassify to 0 and 1 for each variables\n",
        "data_NHANES8<- data_NHANES7%>%\n",
        "  mutate(Cotinine_num = case_when(\n",
        "    Cotinine_group == \"low\"~ 0,\n",
        "    Cotinine_group == \"high\"~ 1,\n",
        "  ))\n",
        "\n",
        "data_NHANES9<- data_NHANES8%>%\n",
        "  mutate(BMI_num = case_when(\n",
        "    BMI_group == \"under/normal weight\"~ 0,\n",
        "    BMI_group == \"overweight\" ~ 1,\n",
        "    BMI_group == \"obese\" ~ 2,\n",
        "  ))\n",
        "\n",
        "data_NHANES<- data_NHANES9%>%\n",
        "  mutate(Asthma_bin = case_when(\n",
        "    Asthma == \"Don't know\" |\n",
        "      Asthma == \"No\" ~ 0,\n",
        "    Asthma == \"Yes\" ~ 1,\n",
        "  ))"
      ],
      "metadata": {
        "id": "73RVsTTceTsj"
      },
      "execution_count": null,
      "outputs": []
    },
    {
      "cell_type": "code",
      "source": [
        "# make sure variable are factors\n",
        "data_NHANES$Asthma_bin<-as.factor(data_NHANES$Asthma_bin)\n",
        "data_NHANES$BMI_num<-as.factor(data_NHANES$BMI_num)\n",
        "data_NHANES$Cotinine_num<-as.factor(data_NHANES$Cotinine_num)"
      ],
      "metadata": {
        "id": "QCR5WfYCeJuO"
      },
      "execution_count": null,
      "outputs": []
    },
    {
      "cell_type": "markdown",
      "source": [
        "# 6) Examine the weights"
      ],
      "metadata": {
        "id": "Kpx-pPwAgeC9"
      }
    },
    {
      "cell_type": "code",
      "source": [
        "hist(data_NHANES$WTMEC2YR)"
      ],
      "metadata": {
        "colab": {
          "base_uri": "https://localhost:8080/",
          "height": 437
        },
        "id": "H2rrhqv4gYBw",
        "outputId": "6851d080-4f81-4946-c6d0-b403a36bc9bb"
      },
      "execution_count": null,
      "outputs": [
        {
          "output_type": "display_data",
          "data": {
            "text/plain": [
              "Plot with title “Histogram of data_NHANES$WTMEC2YR”"
            ],
            "image/png": "[encoded data removed]"
          },
          "metadata": {
            "image/png": {
              "width": 420,
              "height": 420
            }
          }
        }
      ]
    },
    {
      "cell_type": "markdown",
      "source": [
        "# 7) Begin model-fitting"
      ],
      "metadata": {
        "id": "Kx9dRPL3gLlv"
      }
    },
    {
      "cell_type": "markdown",
      "source": [
        "## ```survey::svydesign()```"
      ],
      "metadata": {
        "id": "xRb3Z8ZbgRhO"
      }
    },
    {
      "cell_type": "code",
      "source": [
        "model1<- svydesign(id = ~SDMVPSU, strata = ~SDMVSTRA, weight = ~WTMEC2YR, data= data_NHANES, nest= TRUE)\n",
        "summary(model1)"
      ],
      "metadata": {
        "colab": {
          "base_uri": "https://localhost:8080/",
          "height": 903
        },
        "id": "YhKbLcsqhQXH",
        "outputId": "b3650a02-33f3-4a39-a276-5e03468e2345"
      },
      "execution_count": null,
      "outputs": [
        {
          "output_type": "display_data",
          "data": {
            "text/plain": [
              "Stratified 1 - level Cluster Sampling design (with replacement)\n",
              "With (271) clusters.\n",
              "svydesign(id = ~SDMVPSU, strata = ~SDMVSTRA, weight = ~WTMEC2YR, \n",
              "    data = data_NHANES, nest = TRUE)\n",
              "Probabilities:\n",
              "     Min.   1st Qu.    Median      Mean   3rd Qu.      Max. \n",
              "5.089e-06 4.106e-05 7.523e-05 7.727e-05 1.015e-04 5.553e-04 \n",
              "Stratum Sizes: \n",
              "            1  2  3   4  5  6  7  8  9 10 11 12 13 29  30 31 32  33  34 35  36\n",
              "obs        79 72 62 103 76 86 70 63 84 75 74 73 57 81 108 65 57 123 104 75 103\n",
              "design.PSU  3  2  2   2  2  2  2  2  2  2  2  2  2  2   2  2  2   2   2  2   2\n",
              "actual.PSU  3  2  2   2  2  2  2  2  2  2  2  2  2  2   2  2  2   2   2  2   2\n",
              "           37 38 39 40 41  42 43 44 45  46 47 48  49 50  51 52  53  54 55  56\n",
              "obs        97 85 80 86 87 128 82 74 95 105 81 87 117 75 106 77 104 102 85 118\n",
              "design.PSU  2  2  2  2  2   2  2  2  2   2  2  2   2  2   2  2   2   2  2   2\n",
              "actual.PSU  2  2  2  2  2   2  2  2  2   2  2  2   2  2   2  2   2   2  2   2\n",
              "           57 58 59 60  61  62  63 64  65  66 67 68 69 70 71 72 73 74  75  76\n",
              "obs        96 74 80 78 114 102 100 83 112 119 82 92 59 64 87 62 21 44 108 103\n",
              "design.PSU  2  2  2  2   2   2   2  2   2   2  2  2  2  2  2  2  2  2   2   2\n",
              "actual.PSU  2  2  2  2   2   2   2  2   2   2  2  2  2  2  2  2  2  2   2   2\n",
              "           77 78  79 80 81  82 83 84 85  86 87 88 89 90  91  92 93  94 95  96\n",
              "obs        82 93 102 93 71 118 78 84 83 136 78 84 20 99 131 104 51 112 80 103\n",
              "design.PSU  2  2   2  2  2   2  2  2  2   3  2  2  2  3   3   3  2   2  2   2\n",
              "actual.PSU  2  2   2  2  2   2  2  2  2   3  2  2  2  3   3   3  2   2  2   2\n",
              "            97  98  99 100 101 102 103 104 105 106 107 108 109 110 111 112 113\n",
              "obs        104 124 104 107  78 115  35  64  85  99 134 124 127 115  99  64  85\n",
              "design.PSU   2   2   2   2   2   2   2   2   2   2   2   2   2   2   2   2   2\n",
              "actual.PSU   2   2   2   2   2   2   2   2   2   2   2   2   2   2   2   2   2\n",
              "           114 115 116 117 118 119 120 121 122 123 124 125 126 127 128 129 130\n",
              "obs        130 101 113  33  99  39 137  85  80  77  63  68 137  95 104  99 106\n",
              "design.PSU   2   2   2   2   2   2   2   2   2   2   2   2   2   2   2   2   2\n",
              "actual.PSU   2   2   2   2   2   2   2   2   2   2   2   2   2   2   2   2   2\n",
              "           131 132 133 134 135 136 137 138 139 140 141 142 143 144 145 146 147\n",
              "obs        129  99  38  55  72  77  75  63  73  51  98 108  61  74  65  60  95\n",
              "design.PSU   2   2   2   2   2   2   2   2   2   2   2   2   2   2   2   2   2\n",
              "actual.PSU   2   2   2   2   2   2   2   2   2   2   2   2   2   2   2   2   2\n",
              "           148\n",
              "obs         39\n",
              "design.PSU   2\n",
              "actual.PSU   2\n",
              "Data variables:\n",
              " [1] \"X\"                 \"UID\"               \"Gender\"           \n",
              " [4] \"Age_y\"             \"Ethnicity\"         \"Ref_gend\"         \n",
              " [7] \"Ref_age\"           \"Red_edu\"           \"Ref_marital\"      \n",
              "[10] \"Povratio\"          \"WTINT2YR\"          \"WTMEC2YR\"         \n",
              "[13] \"SDMVPSU\"           \"SDMVSTRA\"          \"BMI\"              \n",
              "[16] \"Cotinine\"          \"Asthma\"            \"Smoke_home\"       \n",
              "[19] \"eligible\"          \"Cotinine_group\"    \"BMI_z\"            \n",
              "[22] \"BMI_group\"         \"Smoke_home_group\"  \"Ref_marital_group\"\n",
              "[25] \"Ref_edu_group\"     \"Cotinine_num\"      \"BMI_num\"          \n",
              "[28] \"Asthma_bin\"       "
            ]
          },
          "metadata": {}
        }
      ]
    },
    {
      "cell_type": "code",
      "source": [
        "#unadjusted model #1- serum cotinine and asthma\n",
        "unadjust<-svyglm( Asthma_bin~Cotinine_num, design = model1, family=binomial )## run model\n",
        "\n",
        "summary(unadjust)## summary of model\n",
        "\n",
        "exp(0.25169) #calculate Odd ratio\n",
        "exp(0.25169+ 1.96 *0.07235) ## lower limit of CI\n",
        "exp(0.25169- 1.96 *0.07235) ## upper limit of CI"
      ],
      "metadata": {
        "colab": {
          "base_uri": "https://localhost:8080/",
          "height": 434
        },
        "id": "lv_BdF91hDLk",
        "outputId": "82c97b82-236e-482d-e0d7-9abeb879d401"
      },
      "execution_count": null,
      "outputs": [
        {
          "output_type": "stream",
          "name": "stderr",
          "text": [
            "Warning message in eval(family$initialize):\n",
            "“non-integer #successes in a binomial glm!”\n"
          ]
        },
        {
          "output_type": "display_data",
          "data": {
            "text/plain": [
              "\n",
              "Call:\n",
              "svyglm(formula = Asthma_bin ~ Cotinine_num, design = model1, \n",
              "    family = binomial)\n",
              "\n",
              "Survey design:\n",
              "svydesign(id = ~SDMVPSU, strata = ~SDMVSTRA, weight = ~WTMEC2YR, \n",
              "    data = data_NHANES, nest = TRUE)\n",
              "\n",
              "Coefficients:\n",
              "              Estimate Std. Error t value Pr(>|t|)    \n",
              "(Intercept)   -1.82823    0.05315 -34.400  < 2e-16 ***\n",
              "Cotinine_num1  0.25169    0.07235   3.479 0.000675 ***\n",
              "---\n",
              "Signif. codes:  0 ‘***’ 0.001 ‘**’ 0.01 ‘*’ 0.05 ‘.’ 0.1 ‘ ’ 1\n",
              "\n",
              "(Dispersion parameter for binomial family taken to be 1.000086)\n",
              "\n",
              "Number of Fisher Scoring iterations: 4\n"
            ]
          },
          "metadata": {}
        },
        {
          "output_type": "display_data",
          "data": {
            "text/html": [
              "1.28619725432783"
            ],
            "text/markdown": "1.28619725432783",
            "text/latex": "1.28619725432783",
            "text/plain": [
              "[1] 1.286197"
            ]
          },
          "metadata": {}
        },
        {
          "output_type": "display_data",
          "data": {
            "text/html": [
              "1.48215335510682"
            ],
            "text/markdown": "1.48215335510682",
            "text/latex": "1.48215335510682",
            "text/plain": [
              "[1] 1.482153"
            ]
          },
          "metadata": {}
        },
        {
          "output_type": "display_data",
          "data": {
            "text/html": [
              "1.11614858971273"
            ],
            "text/markdown": "1.11614858971273",
            "text/latex": "1.11614858971273",
            "text/plain": [
              "[1] 1.116149"
            ]
          },
          "metadata": {}
        }
      ]
    },
    {
      "cell_type": "markdown",
      "source": [
        "## Analysis 1 (unadjusted)"
      ],
      "metadata": {
        "id": "MMV_JfT8cl5G"
      }
    },
    {
      "cell_type": "code",
      "source": [
        "#unadjusted model #1- BMI group and asthma\n",
        "unadjust<-svyglm(Asthma_bin~BMI_num, design=model1, family=binomial)\n",
        "summary(unadjust)\n",
        "\n",
        "#group1\n",
        "exp(0.47602) #OR\n",
        "exp(0.47602+ 1.96 *0.12126)\n",
        "exp(0.47602- 1.96 *0.12126)"
      ],
      "metadata": {
        "colab": {
          "base_uri": "https://localhost:8080/",
          "height": 434
        },
        "id": "84EK9Z15h7Kt",
        "outputId": "81096ed6-62de-4d8f-b32e-1b9d600e3c72"
      },
      "execution_count": null,
      "outputs": [
        {
          "output_type": "stream",
          "name": "stderr",
          "text": [
            "Warning message in eval(family$initialize):\n",
            "“non-integer #successes in a binomial glm!”\n"
          ]
        },
        {
          "output_type": "display_data",
          "data": {
            "text/plain": [
              "\n",
              "Call:\n",
              "svyglm(formula = Asthma_bin ~ BMI_num, design = model1, family = binomial)\n",
              "\n",
              "Survey design:\n",
              "svydesign(id = ~SDMVPSU, strata = ~SDMVSTRA, weight = ~WTMEC2YR, \n",
              "    data = data_NHANES, nest = TRUE)\n",
              "\n",
              "Coefficients:\n",
              "            Estimate Std. Error t value Pr(>|t|)    \n",
              "(Intercept) -1.78939    0.04544 -39.379  < 2e-16 ***\n",
              "BMI_num1     0.47602    0.12126   3.926 0.000137 ***\n",
              "BMI_num2     0.77654    0.13728   5.657 8.74e-08 ***\n",
              "---\n",
              "Signif. codes:  0 ‘***’ 0.001 ‘**’ 0.01 ‘*’ 0.05 ‘.’ 0.1 ‘ ’ 1\n",
              "\n",
              "(Dispersion parameter for binomial family taken to be 1.000086)\n",
              "\n",
              "Number of Fisher Scoring iterations: 4\n"
            ]
          },
          "metadata": {}
        },
        {
          "output_type": "display_data",
          "data": {
            "text/html": [
              "1.60965520874068"
            ],
            "text/markdown": "1.60965520874068",
            "text/latex": "1.60965520874068",
            "text/plain": [
              "[1] 1.609655"
            ]
          },
          "metadata": {}
        },
        {
          "output_type": "display_data",
          "data": {
            "text/html": [
              "2.04150973434946"
            ],
            "text/markdown": "2.04150973434946",
            "text/latex": "2.04150973434946",
            "text/plain": [
              "[1] 2.04151"
            ]
          },
          "metadata": {}
        },
        {
          "output_type": "display_data",
          "data": {
            "text/html": [
              "1.26915382642133"
            ],
            "text/markdown": "1.26915382642133",
            "text/latex": "1.26915382642133",
            "text/plain": [
              "[1] 1.269154"
            ]
          },
          "metadata": {}
        }
      ]
    },
    {
      "cell_type": "code",
      "source": [
        "#group2\n",
        "exp(0.77654) #OR\n",
        "exp(0.77654+ 1.96 *0.13728)\n",
        "exp(0.77654- 1.96 *0.13728)\n",
        "\n",
        "#unadjusted model #1- Asthma and interaction of BMI and cotinine levels.\n",
        "unadjust<-svyglm(Asthma_bin~Cotinine_group:BMI_group, design=model1, family=binomial)\n",
        "summary(unadjust)\n",
        "\n",
        "exp(unadjust$coefficients)\n",
        "exp(confint(unadjust))\n",
        "\n"
      ],
      "metadata": {
        "colab": {
          "base_uri": "https://localhost:8080/",
          "height": 915
        },
        "id": "LyIqw408cPPY",
        "outputId": "c9d6e613-d6ab-4ca0-dad4-4a5adf9c0037"
      },
      "execution_count": null,
      "outputs": [
        {
          "output_type": "display_data",
          "data": {
            "text/html": [
              "2.17393741426922"
            ],
            "text/markdown": "2.17393741426922",
            "text/latex": "2.17393741426922",
            "text/plain": [
              "[1] 2.173937"
            ]
          },
          "metadata": {}
        },
        {
          "output_type": "display_data",
          "data": {
            "text/html": [
              "2.84513011171489"
            ],
            "text/markdown": "2.84513011171489",
            "text/latex": "2.84513011171489",
            "text/plain": [
              "[1] 2.84513"
            ]
          },
          "metadata": {}
        },
        {
          "output_type": "display_data",
          "data": {
            "text/html": [
              "1.66108532671322"
            ],
            "text/markdown": "1.66108532671322",
            "text/latex": "1.66108532671322",
            "text/plain": [
              "[1] 1.661085"
            ]
          },
          "metadata": {}
        },
        {
          "output_type": "stream",
          "name": "stderr",
          "text": [
            "Warning message in eval(family$initialize):\n",
            "“non-integer #successes in a binomial glm!”\n"
          ]
        },
        {
          "output_type": "display_data",
          "data": {
            "text/plain": [
              "\n",
              "Call:\n",
              "svyglm(formula = Asthma_bin ~ Cotinine_group:BMI_group, design = model1, \n",
              "    family = binomial)\n",
              "\n",
              "Survey design:\n",
              "svydesign(id = ~SDMVPSU, strata = ~SDMVSTRA, weight = ~WTMEC2YR, \n",
              "    data = data_NHANES, nest = TRUE)\n",
              "\n",
              "Coefficients: (1 not defined because of singularities)\n",
              "                                                Estimate Std. Error t value\n",
              "(Intercept)                                     -1.92384    0.05725 -33.603\n",
              "Cotinine_grouphigh:BMI_groupobese                0.95069    0.18614   5.107\n",
              "Cotinine_grouplow:BMI_groupobese                 0.84245    0.19048   4.423\n",
              "Cotinine_grouphigh:BMI_groupoverweight           0.62445    0.14193   4.400\n",
              "Cotinine_grouplow:BMI_groupoverweight            0.59686    0.15644   3.815\n",
              "Cotinine_grouphigh:BMI_groupunder/normal weight  0.26868    0.08233   3.263\n",
              "                                                Pr(>|t|)    \n",
              "(Intercept)                                      < 2e-16 ***\n",
              "Cotinine_grouphigh:BMI_groupobese               1.11e-06 ***\n",
              "Cotinine_grouplow:BMI_groupobese                2.01e-05 ***\n",
              "Cotinine_grouphigh:BMI_groupoverweight          2.20e-05 ***\n",
              "Cotinine_grouplow:BMI_groupoverweight           0.000207 ***\n",
              "Cotinine_grouphigh:BMI_groupunder/normal weight 0.001399 ** \n",
              "---\n",
              "Signif. codes:  0 ‘***’ 0.001 ‘**’ 0.01 ‘*’ 0.05 ‘.’ 0.1 ‘ ’ 1\n",
              "\n",
              "(Dispersion parameter for binomial family taken to be 1.000086)\n",
              "\n",
              "Number of Fisher Scoring iterations: 4\n"
            ]
          },
          "metadata": {}
        },
        {
          "output_type": "display_data",
          "data": {
            "text/html": [
              "<style>\n",
              ".dl-inline {width: auto; margin:0; padding: 0}\n",
              ".dl-inline>dt, .dl-inline>dd {float: none; width: auto; display: inline-block}\n",
              ".dl-inline>dt::after {content: \":\\0020\"; padding-right: .5ex}\n",
              ".dl-inline>dt:not(:first-of-type) {padding-left: .5ex}\n",
              "</style><dl class=dl-inline><dt>(Intercept)</dt><dd>0.146045216534227</dd><dt>Cotinine_grouphigh:BMI_groupobese</dt><dd>2.58749898904423</dd><dt>Cotinine_grouplow:BMI_groupobese</dt><dd>2.32203917917249</dd><dt>Cotinine_grouphigh:BMI_groupoverweight</dt><dd>1.86722576961665</dd><dt>Cotinine_grouplow:BMI_groupoverweight</dt><dd>1.81639800216522</dd><dt>Cotinine_grouphigh:BMI_groupunder/normal weight</dt><dd>1.30823401127459</dd><dt>Cotinine_grouplow:BMI_groupunder/normal weight</dt><dd>&lt;NA&gt;</dd></dl>\n"
            ],
            "text/markdown": "(Intercept)\n:   0.146045216534227Cotinine_grouphigh:BMI_groupobese\n:   2.58749898904423Cotinine_grouplow:BMI_groupobese\n:   2.32203917917249Cotinine_grouphigh:BMI_groupoverweight\n:   1.86722576961665Cotinine_grouplow:BMI_groupoverweight\n:   1.81639800216522Cotinine_grouphigh:BMI_groupunder/normal weight\n:   1.30823401127459Cotinine_grouplow:BMI_groupunder/normal weight\n:   &lt;NA&gt;\n\n",
            "text/latex": "\\begin{description*}\n\\item[(Intercept)] 0.146045216534227\n\\item[Cotinine\\textbackslash{}\\_grouphigh:BMI\\textbackslash{}\\_groupobese] 2.58749898904423\n\\item[Cotinine\\textbackslash{}\\_grouplow:BMI\\textbackslash{}\\_groupobese] 2.32203917917249\n\\item[Cotinine\\textbackslash{}\\_grouphigh:BMI\\textbackslash{}\\_groupoverweight] 1.86722576961665\n\\item[Cotinine\\textbackslash{}\\_grouplow:BMI\\textbackslash{}\\_groupoverweight] 1.81639800216522\n\\item[Cotinine\\textbackslash{}\\_grouphigh:BMI\\textbackslash{}\\_groupunder/normal weight] 1.30823401127459\n\\item[Cotinine\\textbackslash{}\\_grouplow:BMI\\textbackslash{}\\_groupunder/normal weight] <NA>\n\\end{description*}\n",
            "text/plain": [
              "                                    (Intercept) \n",
              "                                      0.1460452 \n",
              "              Cotinine_grouphigh:BMI_groupobese \n",
              "                                      2.5874990 \n",
              "               Cotinine_grouplow:BMI_groupobese \n",
              "                                      2.3220392 \n",
              "         Cotinine_grouphigh:BMI_groupoverweight \n",
              "                                      1.8672258 \n",
              "          Cotinine_grouplow:BMI_groupoverweight \n",
              "                                      1.8163980 \n",
              "Cotinine_grouphigh:BMI_groupunder/normal weight \n",
              "                                      1.3082340 \n",
              " Cotinine_grouplow:BMI_groupunder/normal weight \n",
              "                                             NA "
            ]
          },
          "metadata": {}
        },
        {
          "output_type": "display_data",
          "data": {
            "text/html": [
              "<table class=\"dataframe\">\n",
              "<caption>A matrix: 6 × 2 of type dbl</caption>\n",
              "<thead>\n",
              "\t<tr><th></th><th scope=col>2.5 %</th><th scope=col>97.5 %</th></tr>\n",
              "</thead>\n",
              "<tbody>\n",
              "\t<tr><th scope=row>(Intercept)</th><td>0.130409</td><td>0.1635563</td></tr>\n",
              "\t<tr><th scope=row>Cotinine_grouphigh:BMI_groupobese</th><td>1.790547</td><td>3.7391661</td></tr>\n",
              "\t<tr><th scope=row>Cotinine_grouplow:BMI_groupobese</th><td>1.593105</td><td>3.3845007</td></tr>\n",
              "\t<tr><th scope=row>Cotinine_grouphigh:BMI_groupoverweight</th><td>1.410175</td><td>2.4724113</td></tr>\n",
              "\t<tr><th scope=row>Cotinine_grouplow:BMI_groupoverweight</th><td>1.332992</td><td>2.4751104</td></tr>\n",
              "\t<tr><th scope=row>Cotinine_grouphigh:BMI_groupunder/normal weight</th><td>1.111639</td><td>1.5395976</td></tr>\n",
              "</tbody>\n",
              "</table>\n"
            ],
            "text/markdown": "\nA matrix: 6 × 2 of type dbl\n\n| <!--/--> | 2.5 % | 97.5 % |\n|---|---|---|\n| (Intercept) | 0.130409 | 0.1635563 |\n| Cotinine_grouphigh:BMI_groupobese | 1.790547 | 3.7391661 |\n| Cotinine_grouplow:BMI_groupobese | 1.593105 | 3.3845007 |\n| Cotinine_grouphigh:BMI_groupoverweight | 1.410175 | 2.4724113 |\n| Cotinine_grouplow:BMI_groupoverweight | 1.332992 | 2.4751104 |\n| Cotinine_grouphigh:BMI_groupunder/normal weight | 1.111639 | 1.5395976 |\n\n",
            "text/latex": "A matrix: 6 × 2 of type dbl\n\\begin{tabular}{r|ll}\n  & 2.5 \\% & 97.5 \\%\\\\\n\\hline\n\t(Intercept) & 0.130409 & 0.1635563\\\\\n\tCotinine\\_grouphigh:BMI\\_groupobese & 1.790547 & 3.7391661\\\\\n\tCotinine\\_grouplow:BMI\\_groupobese & 1.593105 & 3.3845007\\\\\n\tCotinine\\_grouphigh:BMI\\_groupoverweight & 1.410175 & 2.4724113\\\\\n\tCotinine\\_grouplow:BMI\\_groupoverweight & 1.332992 & 2.4751104\\\\\n\tCotinine\\_grouphigh:BMI\\_groupunder/normal weight & 1.111639 & 1.5395976\\\\\n\\end{tabular}\n",
            "text/plain": [
              "                                                2.5 %    97.5 %   \n",
              "(Intercept)                                     0.130409 0.1635563\n",
              "Cotinine_grouphigh:BMI_groupobese               1.790547 3.7391661\n",
              "Cotinine_grouplow:BMI_groupobese                1.593105 3.3845007\n",
              "Cotinine_grouphigh:BMI_groupoverweight          1.410175 2.4724113\n",
              "Cotinine_grouplow:BMI_groupoverweight           1.332992 2.4751104\n",
              "Cotinine_grouphigh:BMI_groupunder/normal weight 1.111639 1.5395976"
            ]
          },
          "metadata": {}
        }
      ]
    },
    {
      "cell_type": "markdown",
      "source": [
        "## Analysis 2: adjusted FOR AGE & SEX- serum cotinine and asthma"
      ],
      "metadata": {
        "id": "q-gKRU-2cQHy"
      }
    },
    {
      "cell_type": "code",
      "source": [
        "##### MODEL# 2\n",
        "\n",
        "unadjust<-svyglm(Asthma_bin~Cotinine_num+ Gender+Age_y, design=model1, family=binomial)\n",
        "summary(unadjust)\n",
        "\n",
        "exp(unadjust$coefficients)\n",
        "exp(confint(unadjust))"
      ],
      "metadata": {
        "colab": {
          "base_uri": "https://localhost:8080/",
          "height": 609
        },
        "id": "osHvQk1Ol04l",
        "outputId": "167f3194-ce5a-4210-8705-b0bfbea013da"
      },
      "execution_count": null,
      "outputs": [
        {
          "output_type": "stream",
          "name": "stderr",
          "text": [
            "Warning message in eval(family$initialize):\n",
            "“non-integer #successes in a binomial glm!”\n"
          ]
        },
        {
          "output_type": "display_data",
          "data": {
            "text/plain": [
              "\n",
              "Call:\n",
              "svyglm(formula = Asthma_bin ~ Cotinine_num + Gender + Age_y, \n",
              "    design = model1, family = binomial)\n",
              "\n",
              "Survey design:\n",
              "svydesign(id = ~SDMVPSU, strata = ~SDMVSTRA, weight = ~WTMEC2YR, \n",
              "    data = data_NHANES, nest = TRUE)\n",
              "\n",
              "Coefficients:\n",
              "              Estimate Std. Error t value Pr(>|t|)    \n",
              "(Intercept)   -2.67481    0.12020 -22.253  < 2e-16 ***\n",
              "Cotinine_num1  0.27988    0.07297   3.835 0.000192 ***\n",
              "GenderMale     0.39809    0.06970   5.711 6.84e-08 ***\n",
              "Age_y          0.07584    0.01208   6.278 4.37e-09 ***\n",
              "---\n",
              "Signif. codes:  0 ‘***’ 0.001 ‘**’ 0.01 ‘*’ 0.05 ‘.’ 0.1 ‘ ’ 1\n",
              "\n",
              "(Dispersion parameter for binomial family taken to be 0.9960045)\n",
              "\n",
              "Number of Fisher Scoring iterations: 4\n"
            ]
          },
          "metadata": {}
        },
        {
          "output_type": "display_data",
          "data": {
            "text/html": [
              "<style>\n",
              ".dl-inline {width: auto; margin:0; padding: 0}\n",
              ".dl-inline>dt, .dl-inline>dd {float: none; width: auto; display: inline-block}\n",
              ".dl-inline>dt::after {content: \":\\0020\"; padding-right: .5ex}\n",
              ".dl-inline>dt:not(:first-of-type) {padding-left: .5ex}\n",
              "</style><dl class=dl-inline><dt>(Intercept)</dt><dd>0.0689197475468101</dd><dt>Cotinine_num1</dt><dd>1.32297245112918</dd><dt>GenderMale</dt><dd>1.48898226344574</dd><dt>Age_y</dt><dd>1.07878957643408</dd></dl>\n"
            ],
            "text/markdown": "(Intercept)\n:   0.0689197475468101Cotinine_num1\n:   1.32297245112918GenderMale\n:   1.48898226344574Age_y\n:   1.07878957643408\n\n",
            "text/latex": "\\begin{description*}\n\\item[(Intercept)] 0.0689197475468101\n\\item[Cotinine\\textbackslash{}\\_num1] 1.32297245112918\n\\item[GenderMale] 1.48898226344574\n\\item[Age\\textbackslash{}\\_y] 1.07878957643408\n\\end{description*}\n",
            "text/plain": [
              "  (Intercept) Cotinine_num1    GenderMale         Age_y \n",
              "   0.06891975    1.32297245    1.48898226    1.07878958 "
            ]
          },
          "metadata": {}
        },
        {
          "output_type": "display_data",
          "data": {
            "text/html": [
              "<table class=\"dataframe\">\n",
              "<caption>A matrix: 4 × 2 of type dbl</caption>\n",
              "<thead>\n",
              "\t<tr><th></th><th scope=col>2.5 %</th><th scope=col>97.5 %</th></tr>\n",
              "</thead>\n",
              "<tbody>\n",
              "\t<tr><th scope=row>(Intercept)</th><td>0.05433814</td><td>0.08741432</td></tr>\n",
              "\t<tr><th scope=row>Cotinine_num1</th><td>1.14518316</td><td>1.52836347</td></tr>\n",
              "\t<tr><th scope=row>GenderMale</th><td>1.29724144</td><td>1.70906364</td></tr>\n",
              "\t<tr><th scope=row>Age_y</th><td>1.05332067</td><td>1.10487431</td></tr>\n",
              "</tbody>\n",
              "</table>\n"
            ],
            "text/markdown": "\nA matrix: 4 × 2 of type dbl\n\n| <!--/--> | 2.5 % | 97.5 % |\n|---|---|---|\n| (Intercept) | 0.05433814 | 0.08741432 |\n| Cotinine_num1 | 1.14518316 | 1.52836347 |\n| GenderMale | 1.29724144 | 1.70906364 |\n| Age_y | 1.05332067 | 1.10487431 |\n\n",
            "text/latex": "A matrix: 4 × 2 of type dbl\n\\begin{tabular}{r|ll}\n  & 2.5 \\% & 97.5 \\%\\\\\n\\hline\n\t(Intercept) & 0.05433814 & 0.08741432\\\\\n\tCotinine\\_num1 & 1.14518316 & 1.52836347\\\\\n\tGenderMale & 1.29724144 & 1.70906364\\\\\n\tAge\\_y & 1.05332067 & 1.10487431\\\\\n\\end{tabular}\n",
            "text/plain": [
              "              2.5 %      97.5 %    \n",
              "(Intercept)   0.05433814 0.08741432\n",
              "Cotinine_num1 1.14518316 1.52836347\n",
              "GenderMale    1.29724144 1.70906364\n",
              "Age_y         1.05332067 1.10487431"
            ]
          },
          "metadata": {}
        }
      ]
    },
    {
      "cell_type": "code",
      "source": [
        "#adjusted FOR AGE & SEX- BMI group and asthma\n",
        "unadjust<-svyglm(Asthma_bin~BMI_num+ Gender+Age_y, design=model1, family=binomial)\n",
        "summary(unadjust)\n",
        "\n",
        "exp(unadjust$coefficients)\n",
        "exp(confint(unadjust))"
      ],
      "metadata": {
        "colab": {
          "base_uri": "https://localhost:8080/",
          "height": 658
        },
        "id": "dh3O7eQ6l30p",
        "outputId": "1d1ed7ab-0470-40c5-aaff-703d79ca0283"
      },
      "execution_count": null,
      "outputs": [
        {
          "output_type": "stream",
          "name": "stderr",
          "text": [
            "Warning message in eval(family$initialize):\n",
            "“non-integer #successes in a binomial glm!”\n"
          ]
        },
        {
          "output_type": "display_data",
          "data": {
            "text/plain": [
              "\n",
              "Call:\n",
              "svyglm(formula = Asthma_bin ~ BMI_num + Gender + Age_y, design = model1, \n",
              "    family = binomial)\n",
              "\n",
              "Survey design:\n",
              "svydesign(id = ~SDMVPSU, strata = ~SDMVSTRA, weight = ~WTMEC2YR, \n",
              "    data = data_NHANES, nest = TRUE)\n",
              "\n",
              "Coefficients:\n",
              "            Estimate Std. Error t value Pr(>|t|)    \n",
              "(Intercept) -2.42379    0.11318 -21.416  < 2e-16 ***\n",
              "BMI_num1     0.37005    0.12482   2.965  0.00359 ** \n",
              "BMI_num2     0.66969    0.13854   4.834 3.61e-06 ***\n",
              "GenderMale   0.41537    0.06938   5.987 1.85e-08 ***\n",
              "Age_y        0.05211    0.01204   4.327 2.93e-05 ***\n",
              "---\n",
              "Signif. codes:  0 ‘***’ 0.001 ‘**’ 0.01 ‘*’ 0.05 ‘.’ 0.1 ‘ ’ 1\n",
              "\n",
              "(Dispersion parameter for binomial family taken to be 0.9973801)\n",
              "\n",
              "Number of Fisher Scoring iterations: 4\n"
            ]
          },
          "metadata": {}
        },
        {
          "output_type": "display_data",
          "data": {
            "text/html": [
              "<style>\n",
              ".dl-inline {width: auto; margin:0; padding: 0}\n",
              ".dl-inline>dt, .dl-inline>dd {float: none; width: auto; display: inline-block}\n",
              ".dl-inline>dt::after {content: \":\\0020\"; padding-right: .5ex}\n",
              ".dl-inline>dt:not(:first-of-type) {padding-left: .5ex}\n",
              "</style><dl class=dl-inline><dt>(Intercept)</dt><dd>0.0885849547503803</dd><dt>BMI_num1</dt><dd>1.4478037240759</dd><dt>BMI_num2</dt><dd>1.95363671545714</dd><dt>GenderMale</dt><dd>1.51492364739198</dd><dt>Age_y</dt><dd>1.05349403866262</dd></dl>\n"
            ],
            "text/markdown": "(Intercept)\n:   0.0885849547503803BMI_num1\n:   1.4478037240759BMI_num2\n:   1.95363671545714GenderMale\n:   1.51492364739198Age_y\n:   1.05349403866262\n\n",
            "text/latex": "\\begin{description*}\n\\item[(Intercept)] 0.0885849547503803\n\\item[BMI\\textbackslash{}\\_num1] 1.4478037240759\n\\item[BMI\\textbackslash{}\\_num2] 1.95363671545714\n\\item[GenderMale] 1.51492364739198\n\\item[Age\\textbackslash{}\\_y] 1.05349403866262\n\\end{description*}\n",
            "text/plain": [
              "(Intercept)    BMI_num1    BMI_num2  GenderMale       Age_y \n",
              " 0.08858495  1.44780372  1.95363672  1.51492365  1.05349404 "
            ]
          },
          "metadata": {}
        },
        {
          "output_type": "display_data",
          "data": {
            "text/html": [
              "<table class=\"dataframe\">\n",
              "<caption>A matrix: 5 × 2 of type dbl</caption>\n",
              "<thead>\n",
              "\t<tr><th></th><th scope=col>2.5 %</th><th scope=col>97.5 %</th></tr>\n",
              "</thead>\n",
              "<tbody>\n",
              "\t<tr><th scope=row>(Intercept)</th><td>0.07081827</td><td>0.1108089</td></tr>\n",
              "\t<tr><th scope=row>BMI_num1</th><td>1.13108317</td><td>1.8532109</td></tr>\n",
              "\t<tr><th scope=row>BMI_num2</th><td>1.48539604</td><td>2.5694807</td></tr>\n",
              "\t<tr><th scope=row>GenderMale</th><td>1.32068410</td><td>1.7377310</td></tr>\n",
              "\t<tr><th scope=row>Age_y</th><td>1.02869812</td><td>1.0788876</td></tr>\n",
              "</tbody>\n",
              "</table>\n"
            ],
            "text/markdown": "\nA matrix: 5 × 2 of type dbl\n\n| <!--/--> | 2.5 % | 97.5 % |\n|---|---|---|\n| (Intercept) | 0.07081827 | 0.1108089 |\n| BMI_num1 | 1.13108317 | 1.8532109 |\n| BMI_num2 | 1.48539604 | 2.5694807 |\n| GenderMale | 1.32068410 | 1.7377310 |\n| Age_y | 1.02869812 | 1.0788876 |\n\n",
            "text/latex": "A matrix: 5 × 2 of type dbl\n\\begin{tabular}{r|ll}\n  & 2.5 \\% & 97.5 \\%\\\\\n\\hline\n\t(Intercept) & 0.07081827 & 0.1108089\\\\\n\tBMI\\_num1 & 1.13108317 & 1.8532109\\\\\n\tBMI\\_num2 & 1.48539604 & 2.5694807\\\\\n\tGenderMale & 1.32068410 & 1.7377310\\\\\n\tAge\\_y & 1.02869812 & 1.0788876\\\\\n\\end{tabular}\n",
            "text/plain": [
              "            2.5 %      97.5 %   \n",
              "(Intercept) 0.07081827 0.1108089\n",
              "BMI_num1    1.13108317 1.8532109\n",
              "BMI_num2    1.48539604 2.5694807\n",
              "GenderMale  1.32068410 1.7377310\n",
              "Age_y       1.02869812 1.0788876"
            ]
          },
          "metadata": {}
        }
      ]
    },
    {
      "cell_type": "code",
      "source": [
        "#adjusted FOR AGE & SEX- Asthma and interaction of BMI and cotinine levels.\n",
        "unadjust<-svyglm(Asthma_bin~Cotinine_group:BMI_group+Gender+Age_y , design=model1, family=binomial)\n",
        "summary(unadjust)\n"
      ],
      "metadata": {
        "colab": {
          "base_uri": "https://localhost:8080/",
          "height": 642
        },
        "id": "jjphj05Il-zP",
        "outputId": "b071ee40-9217-4109-e27d-4ecd06781a67"
      },
      "execution_count": null,
      "outputs": [
        {
          "output_type": "stream",
          "name": "stderr",
          "text": [
            "Warning message in eval(family$initialize):\n",
            "“non-integer #successes in a binomial glm!”\n"
          ]
        },
        {
          "output_type": "display_data",
          "data": {
            "text/plain": [
              "\n",
              "Call:\n",
              "svyglm(formula = Asthma_bin ~ Cotinine_group:BMI_group + Gender + \n",
              "    Age_y, design = model1, family = binomial)\n",
              "\n",
              "Survey design:\n",
              "svydesign(id = ~SDMVPSU, strata = ~SDMVSTRA, weight = ~WTMEC2YR, \n",
              "    data = data_NHANES, nest = TRUE)\n",
              "\n",
              "Coefficients: (1 not defined because of singularities)\n",
              "                                                Estimate Std. Error t value\n",
              "(Intercept)                                     -2.60209    0.12265 -21.215\n",
              "GenderMale                                       0.41255    0.06961   5.926\n",
              "Age_y                                            0.05653    0.01214   4.656\n",
              "Cotinine_grouphigh:BMI_groupobese                0.84663    0.18902   4.479\n",
              "Cotinine_grouplow:BMI_groupobese                 0.72664    0.19354   3.754\n",
              "Cotinine_grouphigh:BMI_groupoverweight           0.53526    0.14463   3.701\n",
              "Cotinine_grouplow:BMI_groupoverweight            0.47710    0.16040   2.974\n",
              "Cotinine_grouphigh:BMI_groupunder/normal weight  0.29201    0.08294   3.521\n",
              "                                                Pr(>|t|)    \n",
              "(Intercept)                                      < 2e-16 ***\n",
              "GenderMale                                      2.58e-08 ***\n",
              "Age_y                                           7.80e-06 ***\n",
              "Cotinine_grouphigh:BMI_groupobese               1.62e-05 ***\n",
              "Cotinine_grouplow:BMI_groupobese                0.000260 ***\n",
              "Cotinine_grouphigh:BMI_groupoverweight          0.000315 ***\n",
              "Cotinine_grouplow:BMI_groupoverweight           0.003496 ** \n",
              "Cotinine_grouphigh:BMI_groupunder/normal weight 0.000593 ***\n",
              "---\n",
              "Signif. codes:  0 ‘***’ 0.001 ‘**’ 0.01 ‘*’ 0.05 ‘.’ 0.1 ‘ ’ 1\n",
              "\n",
              "(Dispersion parameter for binomial family taken to be 0.995997)\n",
              "\n",
              "Number of Fisher Scoring iterations: 4\n"
            ]
          },
          "metadata": {}
        }
      ]
    },
    {
      "cell_type": "code",
      "source": [
        "exp(unadjust$coefficients)\n",
        "exp(confint(unadjust))\n"
      ],
      "metadata": {
        "colab": {
          "base_uri": "https://localhost:8080/",
          "height": 370
        },
        "id": "UKFRbodOcSlR",
        "outputId": "1653df70-565c-42ff-b25b-cd09002bff8d"
      },
      "execution_count": null,
      "outputs": [
        {
          "output_type": "display_data",
          "data": {
            "text/html": [
              "<style>\n",
              ".dl-inline {width: auto; margin:0; padding: 0}\n",
              ".dl-inline>dt, .dl-inline>dd {float: none; width: auto; display: inline-block}\n",
              ".dl-inline>dt::after {content: \":\\0020\"; padding-right: .5ex}\n",
              ".dl-inline>dt:not(:first-of-type) {padding-left: .5ex}\n",
              "</style><dl class=dl-inline><dt>(Intercept)</dt><dd>0.074118188862277</dd><dt>GenderMale</dt><dd>1.51065902395806</dd><dt>Age_y</dt><dd>1.05815365509061</dd><dt>Cotinine_grouphigh:BMI_groupobese</dt><dd>2.33176764562289</dd><dt>Cotinine_grouplow:BMI_groupobese</dt><dd>2.06810982683564</dd><dt>Cotinine_grouphigh:BMI_groupoverweight</dt><dd>1.70788835876119</dd><dt>Cotinine_grouplow:BMI_groupoverweight</dt><dd>1.61140185117473</dd><dt>Cotinine_grouphigh:BMI_groupunder/normal weight</dt><dd>1.33912255893388</dd><dt>Cotinine_grouplow:BMI_groupunder/normal weight</dt><dd>&lt;NA&gt;</dd></dl>\n"
            ],
            "text/markdown": "(Intercept)\n:   0.074118188862277GenderMale\n:   1.51065902395806Age_y\n:   1.05815365509061Cotinine_grouphigh:BMI_groupobese\n:   2.33176764562289Cotinine_grouplow:BMI_groupobese\n:   2.06810982683564Cotinine_grouphigh:BMI_groupoverweight\n:   1.70788835876119Cotinine_grouplow:BMI_groupoverweight\n:   1.61140185117473Cotinine_grouphigh:BMI_groupunder/normal weight\n:   1.33912255893388Cotinine_grouplow:BMI_groupunder/normal weight\n:   &lt;NA&gt;\n\n",
            "text/latex": "\\begin{description*}\n\\item[(Intercept)] 0.074118188862277\n\\item[GenderMale] 1.51065902395806\n\\item[Age\\textbackslash{}\\_y] 1.05815365509061\n\\item[Cotinine\\textbackslash{}\\_grouphigh:BMI\\textbackslash{}\\_groupobese] 2.33176764562289\n\\item[Cotinine\\textbackslash{}\\_grouplow:BMI\\textbackslash{}\\_groupobese] 2.06810982683564\n\\item[Cotinine\\textbackslash{}\\_grouphigh:BMI\\textbackslash{}\\_groupoverweight] 1.70788835876119\n\\item[Cotinine\\textbackslash{}\\_grouplow:BMI\\textbackslash{}\\_groupoverweight] 1.61140185117473\n\\item[Cotinine\\textbackslash{}\\_grouphigh:BMI\\textbackslash{}\\_groupunder/normal weight] 1.33912255893388\n\\item[Cotinine\\textbackslash{}\\_grouplow:BMI\\textbackslash{}\\_groupunder/normal weight] <NA>\n\\end{description*}\n",
            "text/plain": [
              "                                    (Intercept) \n",
              "                                     0.07411819 \n",
              "                                     GenderMale \n",
              "                                     1.51065902 \n",
              "                                          Age_y \n",
              "                                     1.05815366 \n",
              "              Cotinine_grouphigh:BMI_groupobese \n",
              "                                     2.33176765 \n",
              "               Cotinine_grouplow:BMI_groupobese \n",
              "                                     2.06810983 \n",
              "         Cotinine_grouphigh:BMI_groupoverweight \n",
              "                                     1.70788836 \n",
              "          Cotinine_grouplow:BMI_groupoverweight \n",
              "                                     1.61140185 \n",
              "Cotinine_grouphigh:BMI_groupunder/normal weight \n",
              "                                     1.33912256 \n",
              " Cotinine_grouplow:BMI_groupunder/normal weight \n",
              "                                             NA "
            ]
          },
          "metadata": {}
        },
        {
          "output_type": "display_data",
          "data": {
            "text/html": [
              "<table class=\"dataframe\">\n",
              "<caption>A matrix: 8 × 2 of type dbl</caption>\n",
              "<thead>\n",
              "\t<tr><th></th><th scope=col>2.5 %</th><th scope=col>97.5 %</th></tr>\n",
              "</thead>\n",
              "<tbody>\n",
              "\t<tr><th scope=row>(Intercept)</th><td>0.05814989</td><td>0.09447147</td></tr>\n",
              "\t<tr><th scope=row>GenderMale</th><td>1.31631521</td><td>1.73369621</td></tr>\n",
              "\t<tr><th scope=row>Age_y</th><td>1.03304352</td><td>1.08387415</td></tr>\n",
              "\t<tr><th scope=row>Cotinine_grouphigh:BMI_groupobese</th><td>1.60432655</td><td>3.38904841</td></tr>\n",
              "\t<tr><th scope=row>Cotinine_grouplow:BMI_groupobese</th><td>1.41025677</td><td>3.03283654</td></tr>\n",
              "\t<tr><th scope=row>Cotinine_grouphigh:BMI_groupoverweight</th><td>1.28292085</td><td>2.27362635</td></tr>\n",
              "\t<tr><th scope=row>Cotinine_grouplow:BMI_groupoverweight</th><td>1.17326018</td><td>2.21316293</td></tr>\n",
              "\t<tr><th scope=row>Cotinine_grouphigh:BMI_groupunder/normal weight</th><td>1.13648403</td><td>1.57789215</td></tr>\n",
              "</tbody>\n",
              "</table>\n"
            ],
            "text/markdown": "\nA matrix: 8 × 2 of type dbl\n\n| <!--/--> | 2.5 % | 97.5 % |\n|---|---|---|\n| (Intercept) | 0.05814989 | 0.09447147 |\n| GenderMale | 1.31631521 | 1.73369621 |\n| Age_y | 1.03304352 | 1.08387415 |\n| Cotinine_grouphigh:BMI_groupobese | 1.60432655 | 3.38904841 |\n| Cotinine_grouplow:BMI_groupobese | 1.41025677 | 3.03283654 |\n| Cotinine_grouphigh:BMI_groupoverweight | 1.28292085 | 2.27362635 |\n| Cotinine_grouplow:BMI_groupoverweight | 1.17326018 | 2.21316293 |\n| Cotinine_grouphigh:BMI_groupunder/normal weight | 1.13648403 | 1.57789215 |\n\n",
            "text/latex": "A matrix: 8 × 2 of type dbl\n\\begin{tabular}{r|ll}\n  & 2.5 \\% & 97.5 \\%\\\\\n\\hline\n\t(Intercept) & 0.05814989 & 0.09447147\\\\\n\tGenderMale & 1.31631521 & 1.73369621\\\\\n\tAge\\_y & 1.03304352 & 1.08387415\\\\\n\tCotinine\\_grouphigh:BMI\\_groupobese & 1.60432655 & 3.38904841\\\\\n\tCotinine\\_grouplow:BMI\\_groupobese & 1.41025677 & 3.03283654\\\\\n\tCotinine\\_grouphigh:BMI\\_groupoverweight & 1.28292085 & 2.27362635\\\\\n\tCotinine\\_grouplow:BMI\\_groupoverweight & 1.17326018 & 2.21316293\\\\\n\tCotinine\\_grouphigh:BMI\\_groupunder/normal weight & 1.13648403 & 1.57789215\\\\\n\\end{tabular}\n",
            "text/plain": [
              "                                                2.5 %      97.5 %    \n",
              "(Intercept)                                     0.05814989 0.09447147\n",
              "GenderMale                                      1.31631521 1.73369621\n",
              "Age_y                                           1.03304352 1.08387415\n",
              "Cotinine_grouphigh:BMI_groupobese               1.60432655 3.38904841\n",
              "Cotinine_grouplow:BMI_groupobese                1.41025677 3.03283654\n",
              "Cotinine_grouphigh:BMI_groupoverweight          1.28292085 2.27362635\n",
              "Cotinine_grouplow:BMI_groupoverweight           1.17326018 2.21316293\n",
              "Cotinine_grouphigh:BMI_groupunder/normal weight 1.13648403 1.57789215"
            ]
          },
          "metadata": {}
        }
      ]
    },
    {
      "cell_type": "markdown",
      "source": [
        "## Analysis 3: adjusted FOR age, sex, ethnicity, reference person gener and marital status- serum cotinine and asthma "
      ],
      "metadata": {
        "id": "gpIc_JI-cTPM"
      }
    },
    {
      "cell_type": "code",
      "source": [
        "##### MODEL#3\n",
        "\n",
        "#adjusted FOR age, sex, ethnicity, reference person gener and marital status- serum cotinine and asthma \n",
        "unadjust<-svyglm(Asthma_bin~Cotinine_num+ Gender+Age_y +Ethnicity+Ref_gend+Ref_marital, design=model1, family=binomial)\n",
        "summary(unadjust)\n",
        "\n",
        "exp(unadjust$coefficients)\n",
        "exp(confint(unadjust))\n"
      ],
      "metadata": {
        "colab": {
          "base_uri": "https://localhost:8080/",
          "height": 1000
        },
        "id": "g3Tv9-NamFqs",
        "outputId": "90e6902b-f7ae-4efa-83e3-e9560d200218"
      },
      "execution_count": null,
      "outputs": [
        {
          "output_type": "stream",
          "name": "stderr",
          "text": [
            "Warning message in eval(family$initialize):\n",
            "“non-integer #successes in a binomial glm!”\n"
          ]
        },
        {
          "output_type": "display_data",
          "data": {
            "text/plain": [
              "\n",
              "Call:\n",
              "svyglm(formula = Asthma_bin ~ Cotinine_num + Gender + Age_y + \n",
              "    Ethnicity + Ref_gend + Ref_marital, design = model1, family = binomial)\n",
              "\n",
              "Survey design:\n",
              "svydesign(id = ~SDMVPSU, strata = ~SDMVSTRA, weight = ~WTMEC2YR, \n",
              "    data = data_NHANES, nest = TRUE)\n",
              "\n",
              "Coefficients:\n",
              "                                          Estimate Std. Error t value Pr(>|t|)\n",
              "(Intercept)                               -2.73775    0.17832 -15.353  < 2e-16\n",
              "Cotinine_num1                              0.16284    0.07895   2.063   0.0413\n",
              "GenderMale                                 0.40591    0.06891   5.890 3.66e-08\n",
              "Age_y                                      0.07513    0.01201   6.256 6.45e-09\n",
              "EthnicityNon-Hispanic Black                0.51016    0.09098   5.607 1.36e-07\n",
              "EthnicityNon-Hispanic White                0.16546    0.09785   1.691   0.0935\n",
              "EthnicityOther Hispanic                    0.50007    0.11836   4.225 4.71e-05\n",
              "EthnicityOther Race - Including Multi-Rac  0.24510    0.12765   1.920   0.0572\n",
              "Ref_gendMale                              -0.09659    0.08176  -1.181   0.2398\n",
              "Ref_maritalDon't know                      0.78841    0.37842   2.083   0.0394\n",
              "Ref_maritalDon't Know                     -0.51631    1.14162  -0.452   0.6519\n",
              "Ref_maritalLiving with partner             0.01221    0.18356   0.067   0.9471\n",
              "Ref_maritalMarried                        -0.12026    0.14404  -0.835   0.4055\n",
              "Ref_maritalMarried/Living with partner    -0.11728    0.24913  -0.471   0.6387\n",
              "Ref_maritalNever married                   0.17761    0.16336   1.087   0.2791\n",
              "Ref_maritalNever Married                   0.11877    0.29998   0.396   0.6929\n",
              "Ref_maritalRefused                         0.26776    0.36770   0.728   0.4679\n",
              "Ref_maritalSeparated                      -0.03831    0.17812  -0.215   0.8301\n",
              "Ref_maritalWidowed                         0.10015    0.27402   0.365   0.7154\n",
              "Ref_maritalWidowed/Divorced/Separated      0.04528    0.36605   0.124   0.9018\n",
              "                                             \n",
              "(Intercept)                               ***\n",
              "Cotinine_num1                             *  \n",
              "GenderMale                                ***\n",
              "Age_y                                     ***\n",
              "EthnicityNon-Hispanic Black               ***\n",
              "EthnicityNon-Hispanic White               .  \n",
              "EthnicityOther Hispanic                   ***\n",
              "EthnicityOther Race - Including Multi-Rac .  \n",
              "Ref_gendMale                                 \n",
              "Ref_maritalDon't know                     *  \n",
              "Ref_maritalDon't Know                        \n",
              "Ref_maritalLiving with partner               \n",
              "Ref_maritalMarried                           \n",
              "Ref_maritalMarried/Living with partner       \n",
              "Ref_maritalNever married                     \n",
              "Ref_maritalNever Married                     \n",
              "Ref_maritalRefused                           \n",
              "Ref_maritalSeparated                         \n",
              "Ref_maritalWidowed                           \n",
              "Ref_maritalWidowed/Divorced/Separated        \n",
              "---\n",
              "Signif. codes:  0 ‘***’ 0.001 ‘**’ 0.01 ‘*’ 0.05 ‘.’ 0.1 ‘ ’ 1\n",
              "\n",
              "(Dispersion parameter for binomial family taken to be 0.9937632)\n",
              "\n",
              "Number of Fisher Scoring iterations: 4\n"
            ]
          },
          "metadata": {}
        },
        {
          "output_type": "display_data",
          "data": {
            "text/html": [
              "<style>\n",
              ".dl-inline {width: auto; margin:0; padding: 0}\n",
              ".dl-inline>dt, .dl-inline>dd {float: none; width: auto; display: inline-block}\n",
              ".dl-inline>dt::after {content: \":\\0020\"; padding-right: .5ex}\n",
              ".dl-inline>dt:not(:first-of-type) {padding-left: .5ex}\n",
              "</style><dl class=dl-inline><dt>(Intercept)</dt><dd>0.0647154933083508</dd><dt>Cotinine_num1</dt><dd>1.17684352413882</dd><dt>GenderMale</dt><dd>1.50066333351763</dd><dt>Age_y</dt><dd>1.07802288137705</dd><dt>EthnicityNon-Hispanic Black</dt><dd>1.66555095271483</dd><dt>EthnicityNon-Hispanic White</dt><dd>1.17993466222197</dd><dt>EthnicityOther Hispanic</dt><dd>1.64883489565455</dd><dt>EthnicityOther Race - Including Multi-Rac</dt><dd>1.27774777392726</dd><dt>Ref_gendMale</dt><dd>0.907932125937486</dd><dt>Ref_maritalDon't know</dt><dd>2.19990539231635</dd><dt>Ref_maritalDon't Know</dt><dd>0.596720878522032</dd><dt>Ref_maritalLiving with partner</dt><dd>1.01228861504441</dd><dt>Ref_maritalMarried</dt><dd>0.886690932914137</dd><dt>Ref_maritalMarried/Living with partner</dt><dd>0.889332734745348</dd><dt>Ref_maritalNever married</dt><dd>1.19435865252894</dd><dt>Ref_maritalNever Married</dt><dd>1.12611081552755</dd><dt>Ref_maritalRefused</dt><dd>1.30702699090904</dd><dt>Ref_maritalSeparated</dt><dd>0.962418413843376</dd><dt>Ref_maritalWidowed</dt><dd>1.10533670295284</dd><dt>Ref_maritalWidowed/Divorced/Separated</dt><dd>1.04632464156213</dd></dl>\n"
            ],
            "text/markdown": "(Intercept)\n:   0.0647154933083508Cotinine_num1\n:   1.17684352413882GenderMale\n:   1.50066333351763Age_y\n:   1.07802288137705EthnicityNon-Hispanic Black\n:   1.66555095271483EthnicityNon-Hispanic White\n:   1.17993466222197EthnicityOther Hispanic\n:   1.64883489565455EthnicityOther Race - Including Multi-Rac\n:   1.27774777392726Ref_gendMale\n:   0.907932125937486Ref_maritalDon't know\n:   2.19990539231635Ref_maritalDon't Know\n:   0.596720878522032Ref_maritalLiving with partner\n:   1.01228861504441Ref_maritalMarried\n:   0.886690932914137Ref_maritalMarried/Living with partner\n:   0.889332734745348Ref_maritalNever married\n:   1.19435865252894Ref_maritalNever Married\n:   1.12611081552755Ref_maritalRefused\n:   1.30702699090904Ref_maritalSeparated\n:   0.962418413843376Ref_maritalWidowed\n:   1.10533670295284Ref_maritalWidowed/Divorced/Separated\n:   1.04632464156213\n\n",
            "text/latex": "\\begin{description*}\n\\item[(Intercept)] 0.0647154933083508\n\\item[Cotinine\\textbackslash{}\\_num1] 1.17684352413882\n\\item[GenderMale] 1.50066333351763\n\\item[Age\\textbackslash{}\\_y] 1.07802288137705\n\\item[EthnicityNon-Hispanic Black] 1.66555095271483\n\\item[EthnicityNon-Hispanic White] 1.17993466222197\n\\item[EthnicityOther Hispanic] 1.64883489565455\n\\item[EthnicityOther Race - Including Multi-Rac] 1.27774777392726\n\\item[Ref\\textbackslash{}\\_gendMale] 0.907932125937486\n\\item[Ref\\textbackslash{}\\_maritalDon't know] 2.19990539231635\n\\item[Ref\\textbackslash{}\\_maritalDon't Know] 0.596720878522032\n\\item[Ref\\textbackslash{}\\_maritalLiving with partner] 1.01228861504441\n\\item[Ref\\textbackslash{}\\_maritalMarried] 0.886690932914137\n\\item[Ref\\textbackslash{}\\_maritalMarried/Living with partner] 0.889332734745348\n\\item[Ref\\textbackslash{}\\_maritalNever married] 1.19435865252894\n\\item[Ref\\textbackslash{}\\_maritalNever Married] 1.12611081552755\n\\item[Ref\\textbackslash{}\\_maritalRefused] 1.30702699090904\n\\item[Ref\\textbackslash{}\\_maritalSeparated] 0.962418413843376\n\\item[Ref\\textbackslash{}\\_maritalWidowed] 1.10533670295284\n\\item[Ref\\textbackslash{}\\_maritalWidowed/Divorced/Separated] 1.04632464156213\n\\end{description*}\n",
            "text/plain": [
              "                              (Intercept) \n",
              "                               0.06471549 \n",
              "                            Cotinine_num1 \n",
              "                               1.17684352 \n",
              "                               GenderMale \n",
              "                               1.50066333 \n",
              "                                    Age_y \n",
              "                               1.07802288 \n",
              "              EthnicityNon-Hispanic Black \n",
              "                               1.66555095 \n",
              "              EthnicityNon-Hispanic White \n",
              "                               1.17993466 \n",
              "                  EthnicityOther Hispanic \n",
              "                               1.64883490 \n",
              "EthnicityOther Race - Including Multi-Rac \n",
              "                               1.27774777 \n",
              "                             Ref_gendMale \n",
              "                               0.90793213 \n",
              "                    Ref_maritalDon't know \n",
              "                               2.19990539 \n",
              "                    Ref_maritalDon't Know \n",
              "                               0.59672088 \n",
              "           Ref_maritalLiving with partner \n",
              "                               1.01228862 \n",
              "                       Ref_maritalMarried \n",
              "                               0.88669093 \n",
              "   Ref_maritalMarried/Living with partner \n",
              "                               0.88933273 \n",
              "                 Ref_maritalNever married \n",
              "                               1.19435865 \n",
              "                 Ref_maritalNever Married \n",
              "                               1.12611082 \n",
              "                       Ref_maritalRefused \n",
              "                               1.30702699 \n",
              "                     Ref_maritalSeparated \n",
              "                               0.96241841 \n",
              "                       Ref_maritalWidowed \n",
              "                               1.10533670 \n",
              "    Ref_maritalWidowed/Divorced/Separated \n",
              "                               1.04632464 "
            ]
          },
          "metadata": {}
        },
        {
          "output_type": "display_data",
          "data": {
            "text/html": [
              "<table class=\"dataframe\">\n",
              "<caption>A matrix: 20 × 2 of type dbl</caption>\n",
              "<thead>\n",
              "\t<tr><th></th><th scope=col>2.5 %</th><th scope=col>97.5 %</th></tr>\n",
              "</thead>\n",
              "<tbody>\n",
              "\t<tr><th scope=row>(Intercept)</th><td>0.04546365</td><td>0.09211964</td></tr>\n",
              "\t<tr><th scope=row>Cotinine_num1</th><td>1.00653055</td><td>1.37597481</td></tr>\n",
              "\t<tr><th scope=row>GenderMale</th><td>1.30925829</td><td>1.72005055</td></tr>\n",
              "\t<tr><th scope=row>Age_y</th><td>1.05268965</td><td>1.10396577</td></tr>\n",
              "\t<tr><th scope=row>EthnicityNon-Hispanic Black</th><td>1.39097894</td><td>1.99432205</td></tr>\n",
              "\t<tr><th scope=row>EthnicityNon-Hispanic White</th><td>0.97209857</td><td>1.43220641</td></tr>\n",
              "\t<tr><th scope=row>EthnicityOther Hispanic</th><td>1.30434428</td><td>2.08430899</td></tr>\n",
              "\t<tr><th scope=row>EthnicityOther Race - Including Multi-Rac</th><td>0.99236279</td><td>1.64520415</td></tr>\n",
              "\t<tr><th scope=row>Ref_gendMale</th><td>0.77222227</td><td>1.06749155</td></tr>\n",
              "\t<tr><th scope=row>Ref_maritalDon't know</th><td>1.03987537</td><td>4.65400361</td></tr>\n",
              "\t<tr><th scope=row>Ref_maritalDon't Know</th><td>0.06223545</td><td>5.72143016</td></tr>\n",
              "\t<tr><th scope=row>Ref_maritalLiving with partner</th><td>0.70381218</td><td>1.45596833</td></tr>\n",
              "\t<tr><th scope=row>Ref_maritalMarried</th><td>0.66665734</td><td>1.17934771</td></tr>\n",
              "\t<tr><th scope=row>Ref_maritalMarried/Living with partner</th><td>0.54302821</td><td>1.45648550</td></tr>\n",
              "\t<tr><th scope=row>Ref_maritalNever married</th><td>0.86427601</td><td>1.65050583</td></tr>\n",
              "\t<tr><th scope=row>Ref_maritalNever Married</th><td>0.62175372</td><td>2.03959466</td></tr>\n",
              "\t<tr><th scope=row>Ref_maritalRefused</th><td>0.63108097</td><td>2.70697365</td></tr>\n",
              "\t<tr><th scope=row>Ref_maritalSeparated</th><td>0.67637439</td><td>1.36943269</td></tr>\n",
              "\t<tr><th scope=row>Ref_maritalWidowed</th><td>0.64246820</td><td>1.90168046</td></tr>\n",
              "\t<tr><th scope=row>Ref_maritalWidowed/Divorced/Separated</th><td>0.50685553</td><td>2.15997497</td></tr>\n",
              "</tbody>\n",
              "</table>\n"
            ],
            "text/markdown": "\nA matrix: 20 × 2 of type dbl\n\n| <!--/--> | 2.5 % | 97.5 % |\n|---|---|---|\n| (Intercept) | 0.04546365 | 0.09211964 |\n| Cotinine_num1 | 1.00653055 | 1.37597481 |\n| GenderMale | 1.30925829 | 1.72005055 |\n| Age_y | 1.05268965 | 1.10396577 |\n| EthnicityNon-Hispanic Black | 1.39097894 | 1.99432205 |\n| EthnicityNon-Hispanic White | 0.97209857 | 1.43220641 |\n| EthnicityOther Hispanic | 1.30434428 | 2.08430899 |\n| EthnicityOther Race - Including Multi-Rac | 0.99236279 | 1.64520415 |\n| Ref_gendMale | 0.77222227 | 1.06749155 |\n| Ref_maritalDon't know | 1.03987537 | 4.65400361 |\n| Ref_maritalDon't Know | 0.06223545 | 5.72143016 |\n| Ref_maritalLiving with partner | 0.70381218 | 1.45596833 |\n| Ref_maritalMarried | 0.66665734 | 1.17934771 |\n| Ref_maritalMarried/Living with partner | 0.54302821 | 1.45648550 |\n| Ref_maritalNever married | 0.86427601 | 1.65050583 |\n| Ref_maritalNever Married | 0.62175372 | 2.03959466 |\n| Ref_maritalRefused | 0.63108097 | 2.70697365 |\n| Ref_maritalSeparated | 0.67637439 | 1.36943269 |\n| Ref_maritalWidowed | 0.64246820 | 1.90168046 |\n| Ref_maritalWidowed/Divorced/Separated | 0.50685553 | 2.15997497 |\n\n",
            "text/latex": "A matrix: 20 × 2 of type dbl\n\\begin{tabular}{r|ll}\n  & 2.5 \\% & 97.5 \\%\\\\\n\\hline\n\t(Intercept) & 0.04546365 & 0.09211964\\\\\n\tCotinine\\_num1 & 1.00653055 & 1.37597481\\\\\n\tGenderMale & 1.30925829 & 1.72005055\\\\\n\tAge\\_y & 1.05268965 & 1.10396577\\\\\n\tEthnicityNon-Hispanic Black & 1.39097894 & 1.99432205\\\\\n\tEthnicityNon-Hispanic White & 0.97209857 & 1.43220641\\\\\n\tEthnicityOther Hispanic & 1.30434428 & 2.08430899\\\\\n\tEthnicityOther Race - Including Multi-Rac & 0.99236279 & 1.64520415\\\\\n\tRef\\_gendMale & 0.77222227 & 1.06749155\\\\\n\tRef\\_maritalDon't know & 1.03987537 & 4.65400361\\\\\n\tRef\\_maritalDon't Know & 0.06223545 & 5.72143016\\\\\n\tRef\\_maritalLiving with partner & 0.70381218 & 1.45596833\\\\\n\tRef\\_maritalMarried & 0.66665734 & 1.17934771\\\\\n\tRef\\_maritalMarried/Living with partner & 0.54302821 & 1.45648550\\\\\n\tRef\\_maritalNever married & 0.86427601 & 1.65050583\\\\\n\tRef\\_maritalNever Married & 0.62175372 & 2.03959466\\\\\n\tRef\\_maritalRefused & 0.63108097 & 2.70697365\\\\\n\tRef\\_maritalSeparated & 0.67637439 & 1.36943269\\\\\n\tRef\\_maritalWidowed & 0.64246820 & 1.90168046\\\\\n\tRef\\_maritalWidowed/Divorced/Separated & 0.50685553 & 2.15997497\\\\\n\\end{tabular}\n",
            "text/plain": [
              "                                          2.5 %      97.5 %    \n",
              "(Intercept)                               0.04546365 0.09211964\n",
              "Cotinine_num1                             1.00653055 1.37597481\n",
              "GenderMale                                1.30925829 1.72005055\n",
              "Age_y                                     1.05268965 1.10396577\n",
              "EthnicityNon-Hispanic Black               1.39097894 1.99432205\n",
              "EthnicityNon-Hispanic White               0.97209857 1.43220641\n",
              "EthnicityOther Hispanic                   1.30434428 2.08430899\n",
              "EthnicityOther Race - Including Multi-Rac 0.99236279 1.64520415\n",
              "Ref_gendMale                              0.77222227 1.06749155\n",
              "Ref_maritalDon't know                     1.03987537 4.65400361\n",
              "Ref_maritalDon't Know                     0.06223545 5.72143016\n",
              "Ref_maritalLiving with partner            0.70381218 1.45596833\n",
              "Ref_maritalMarried                        0.66665734 1.17934771\n",
              "Ref_maritalMarried/Living with partner    0.54302821 1.45648550\n",
              "Ref_maritalNever married                  0.86427601 1.65050583\n",
              "Ref_maritalNever Married                  0.62175372 2.03959466\n",
              "Ref_maritalRefused                        0.63108097 2.70697365\n",
              "Ref_maritalSeparated                      0.67637439 1.36943269\n",
              "Ref_maritalWidowed                        0.64246820 1.90168046\n",
              "Ref_maritalWidowed/Divorced/Separated     0.50685553 2.15997497"
            ]
          },
          "metadata": {}
        }
      ]
    },
    {
      "cell_type": "code",
      "source": [
        "#adjusted FOR age, sex, ethnicity, reference person gener and marital status- BMI group and asthma\n",
        "unadjust<-svyglm(Asthma_bin~BMI_num+ Gender+Age_y+Ethnicity+Ref_gend+Ref_marital, design=model1, family=binomial)\n",
        "summary(unadjust)\n",
        "\n",
        "exp(unadjust$coefficients)\n",
        "exp(confint(unadjust))"
      ],
      "metadata": {
        "colab": {
          "base_uri": "https://localhost:8080/",
          "height": 1000
        },
        "id": "9KqUi8ZHmH0Y",
        "outputId": "93cee413-80f2-459c-84eb-e77eaf3a1175"
      },
      "execution_count": null,
      "outputs": [
        {
          "output_type": "stream",
          "name": "stderr",
          "text": [
            "Warning message in eval(family$initialize):\n",
            "“non-integer #successes in a binomial glm!”\n"
          ]
        },
        {
          "output_type": "display_data",
          "data": {
            "text/plain": [
              "\n",
              "Call:\n",
              "svyglm(formula = Asthma_bin ~ BMI_num + Gender + Age_y + Ethnicity + \n",
              "    Ref_gend + Ref_marital, design = model1, family = binomial)\n",
              "\n",
              "Survey design:\n",
              "svydesign(id = ~SDMVPSU, strata = ~SDMVSTRA, weight = ~WTMEC2YR, \n",
              "    data = data_NHANES, nest = TRUE)\n",
              "\n",
              "Coefficients:\n",
              "                                          Estimate Std. Error t value Pr(>|t|)\n",
              "(Intercept)                               -2.61091    0.18158 -14.379  < 2e-16\n",
              "BMI_num1                                   0.36092    0.12599   2.865  0.00494\n",
              "BMI_num2                                   0.61143    0.13692   4.466 1.84e-05\n",
              "GenderMale                                 0.42111    0.06878   6.122 1.25e-08\n",
              "Age_y                                      0.05375    0.01214   4.428 2.14e-05\n",
              "EthnicityNon-Hispanic Black                0.57757    0.08385   6.889 2.93e-10\n",
              "EthnicityNon-Hispanic White                0.24382    0.09453   2.579  0.01113\n",
              "EthnicityOther Hispanic                    0.52633    0.11671   4.510 1.54e-05\n",
              "EthnicityOther Race - Including Multi-Rac  0.30755    0.12736   2.415  0.01728\n",
              "Ref_gendMale                              -0.08748    0.08233  -1.063  0.29016\n",
              "Ref_maritalDon't know                      0.72824    0.37107   1.963  0.05205\n",
              "Ref_maritalDon't Know                     -0.69043    1.12496  -0.614  0.54057\n",
              "Ref_maritalLiving with partner             0.01028    0.18104   0.057  0.95481\n",
              "Ref_maritalMarried                        -0.14158    0.14518  -0.975  0.33146\n",
              "Ref_maritalMarried/Living with partner    -0.15167    0.24775  -0.612  0.54158\n",
              "Ref_maritalNever married                   0.20334    0.16264   1.250  0.21368\n",
              "Ref_maritalNever Married                   0.10305    0.29389   0.351  0.72647\n",
              "Ref_maritalRefused                         0.25700    0.37119   0.692  0.49007\n",
              "Ref_maritalSeparated                      -0.03989    0.17743  -0.225  0.82252\n",
              "Ref_maritalWidowed                         0.10653    0.27516   0.387  0.69933\n",
              "Ref_maritalWidowed/Divorced/Separated      0.03797    0.35765   0.106  0.91562\n",
              "                                             \n",
              "(Intercept)                               ***\n",
              "BMI_num1                                  ** \n",
              "BMI_num2                                  ***\n",
              "GenderMale                                ***\n",
              "Age_y                                     ***\n",
              "EthnicityNon-Hispanic Black               ***\n",
              "EthnicityNon-Hispanic White               *  \n",
              "EthnicityOther Hispanic                   ***\n",
              "EthnicityOther Race - Including Multi-Rac *  \n",
              "Ref_gendMale                                 \n",
              "Ref_maritalDon't know                     .  \n",
              "Ref_maritalDon't Know                        \n",
              "Ref_maritalLiving with partner               \n",
              "Ref_maritalMarried                           \n",
              "Ref_maritalMarried/Living with partner       \n",
              "Ref_maritalNever married                     \n",
              "Ref_maritalNever Married                     \n",
              "Ref_maritalRefused                           \n",
              "Ref_maritalSeparated                         \n",
              "Ref_maritalWidowed                           \n",
              "Ref_maritalWidowed/Divorced/Separated        \n",
              "---\n",
              "Signif. codes:  0 ‘***’ 0.001 ‘**’ 0.01 ‘*’ 0.05 ‘.’ 0.1 ‘ ’ 1\n",
              "\n",
              "(Dispersion parameter for binomial family taken to be 0.9948099)\n",
              "\n",
              "Number of Fisher Scoring iterations: 4\n"
            ]
          },
          "metadata": {}
        },
        {
          "output_type": "display_data",
          "data": {
            "text/html": [
              "<style>\n",
              ".dl-inline {width: auto; margin:0; padding: 0}\n",
              ".dl-inline>dt, .dl-inline>dd {float: none; width: auto; display: inline-block}\n",
              ".dl-inline>dt::after {content: \":\\0020\"; padding-right: .5ex}\n",
              ".dl-inline>dt:not(:first-of-type) {padding-left: .5ex}\n",
              "</style><dl class=dl-inline><dt>(Intercept)</dt><dd>0.0734673771495088</dd><dt>BMI_num1</dt><dd>1.43465097090999</dd><dt>BMI_num2</dt><dd>1.84306197741064</dd><dt>GenderMale</dt><dd>1.52365775705182</dd><dt>Age_y</dt><dd>1.05522441839337</dd><dt>EthnicityNon-Hispanic Black</dt><dd>1.78170526630066</dd><dt>EthnicityNon-Hispanic White</dt><dd>1.27611547569038</dd><dt>EthnicityOther Hispanic</dt><dd>1.6927057851707</dd><dt>EthnicityOther Race - Including Multi-Rac</dt><dd>1.36008268711535</dd><dt>Ref_gendMale</dt><dd>0.916235596236707</dd><dt>Ref_maritalDon't know</dt><dd>2.07143840445472</dd><dt>Ref_maritalDon't Know</dt><dd>0.501362235206691</dd><dt>Ref_maritalLiving with partner</dt><dd>1.01033317641199</dd><dt>Ref_maritalMarried</dt><dd>0.867986357796565</dd><dt>Ref_maritalMarried/Living with partner</dt><dd>0.859269723175837</dd><dt>Ref_maritalNever married</dt><dd>1.22548526944462</dd><dt>Ref_maritalNever Married</dt><dd>1.1085512917791</dd><dt>Ref_maritalRefused</dt><dd>1.29304550955908</dd><dt>Ref_maritalSeparated</dt><dd>0.960896916367572</dd><dt>Ref_maritalWidowed</dt><dd>1.11241583311049</dd><dt>Ref_maritalWidowed/Divorced/Separated</dt><dd>1.03870381421728</dd></dl>\n"
            ],
            "text/markdown": "(Intercept)\n:   0.0734673771495088BMI_num1\n:   1.43465097090999BMI_num2\n:   1.84306197741064GenderMale\n:   1.52365775705182Age_y\n:   1.05522441839337EthnicityNon-Hispanic Black\n:   1.78170526630066EthnicityNon-Hispanic White\n:   1.27611547569038EthnicityOther Hispanic\n:   1.6927057851707EthnicityOther Race - Including Multi-Rac\n:   1.36008268711535Ref_gendMale\n:   0.916235596236707Ref_maritalDon't know\n:   2.07143840445472Ref_maritalDon't Know\n:   0.501362235206691Ref_maritalLiving with partner\n:   1.01033317641199Ref_maritalMarried\n:   0.867986357796565Ref_maritalMarried/Living with partner\n:   0.859269723175837Ref_maritalNever married\n:   1.22548526944462Ref_maritalNever Married\n:   1.1085512917791Ref_maritalRefused\n:   1.29304550955908Ref_maritalSeparated\n:   0.960896916367572Ref_maritalWidowed\n:   1.11241583311049Ref_maritalWidowed/Divorced/Separated\n:   1.03870381421728\n\n",
            "text/latex": "\\begin{description*}\n\\item[(Intercept)] 0.0734673771495088\n\\item[BMI\\textbackslash{}\\_num1] 1.43465097090999\n\\item[BMI\\textbackslash{}\\_num2] 1.84306197741064\n\\item[GenderMale] 1.52365775705182\n\\item[Age\\textbackslash{}\\_y] 1.05522441839337\n\\item[EthnicityNon-Hispanic Black] 1.78170526630066\n\\item[EthnicityNon-Hispanic White] 1.27611547569038\n\\item[EthnicityOther Hispanic] 1.6927057851707\n\\item[EthnicityOther Race - Including Multi-Rac] 1.36008268711535\n\\item[Ref\\textbackslash{}\\_gendMale] 0.916235596236707\n\\item[Ref\\textbackslash{}\\_maritalDon't know] 2.07143840445472\n\\item[Ref\\textbackslash{}\\_maritalDon't Know] 0.501362235206691\n\\item[Ref\\textbackslash{}\\_maritalLiving with partner] 1.01033317641199\n\\item[Ref\\textbackslash{}\\_maritalMarried] 0.867986357796565\n\\item[Ref\\textbackslash{}\\_maritalMarried/Living with partner] 0.859269723175837\n\\item[Ref\\textbackslash{}\\_maritalNever married] 1.22548526944462\n\\item[Ref\\textbackslash{}\\_maritalNever Married] 1.1085512917791\n\\item[Ref\\textbackslash{}\\_maritalRefused] 1.29304550955908\n\\item[Ref\\textbackslash{}\\_maritalSeparated] 0.960896916367572\n\\item[Ref\\textbackslash{}\\_maritalWidowed] 1.11241583311049\n\\item[Ref\\textbackslash{}\\_maritalWidowed/Divorced/Separated] 1.03870381421728\n\\end{description*}\n",
            "text/plain": [
              "                              (Intercept) \n",
              "                               0.07346738 \n",
              "                                 BMI_num1 \n",
              "                               1.43465097 \n",
              "                                 BMI_num2 \n",
              "                               1.84306198 \n",
              "                               GenderMale \n",
              "                               1.52365776 \n",
              "                                    Age_y \n",
              "                               1.05522442 \n",
              "              EthnicityNon-Hispanic Black \n",
              "                               1.78170527 \n",
              "              EthnicityNon-Hispanic White \n",
              "                               1.27611548 \n",
              "                  EthnicityOther Hispanic \n",
              "                               1.69270579 \n",
              "EthnicityOther Race - Including Multi-Rac \n",
              "                               1.36008269 \n",
              "                             Ref_gendMale \n",
              "                               0.91623560 \n",
              "                    Ref_maritalDon't know \n",
              "                               2.07143840 \n",
              "                    Ref_maritalDon't Know \n",
              "                               0.50136224 \n",
              "           Ref_maritalLiving with partner \n",
              "                               1.01033318 \n",
              "                       Ref_maritalMarried \n",
              "                               0.86798636 \n",
              "   Ref_maritalMarried/Living with partner \n",
              "                               0.85926972 \n",
              "                 Ref_maritalNever married \n",
              "                               1.22548527 \n",
              "                 Ref_maritalNever Married \n",
              "                               1.10855129 \n",
              "                       Ref_maritalRefused \n",
              "                               1.29304551 \n",
              "                     Ref_maritalSeparated \n",
              "                               0.96089692 \n",
              "                       Ref_maritalWidowed \n",
              "                               1.11241583 \n",
              "    Ref_maritalWidowed/Divorced/Separated \n",
              "                               1.03870381 "
            ]
          },
          "metadata": {}
        },
        {
          "output_type": "display_data",
          "data": {
            "text/html": [
              "<table class=\"dataframe\">\n",
              "<caption>A matrix: 21 × 2 of type dbl</caption>\n",
              "<thead>\n",
              "\t<tr><th></th><th scope=col>2.5 %</th><th scope=col>97.5 %</th></tr>\n",
              "</thead>\n",
              "<tbody>\n",
              "\t<tr><th scope=row>(Intercept)</th><td>0.05127831</td><td>0.1052581</td></tr>\n",
              "\t<tr><th scope=row>BMI_num1</th><td>1.11788292</td><td>1.8411798</td></tr>\n",
              "\t<tr><th scope=row>BMI_num2</th><td>1.40536138</td><td>2.4170847</td></tr>\n",
              "\t<tr><th scope=row>GenderMale</th><td>1.32963080</td><td>1.7459982</td></tr>\n",
              "\t<tr><th scope=row>Age_y</th><td>1.03015716</td><td>1.0809017</td></tr>\n",
              "\t<tr><th scope=row>EthnicityNon-Hispanic Black</th><td>1.50913201</td><td>2.1035096</td></tr>\n",
              "\t<tr><th scope=row>EthnicityNon-Hispanic White</th><td>1.05825934</td><td>1.5388201</td></tr>\n",
              "\t<tr><th scope=row>EthnicityOther Hispanic</th><td>1.34340732</td><td>2.1328251</td></tr>\n",
              "\t<tr><th scope=row>EthnicityOther Race - Including Multi-Rac</th><td>1.05689822</td><td>1.7502394</td></tr>\n",
              "\t<tr><th scope=row>Ref_gendMale</th><td>0.77839418</td><td>1.0784866</td></tr>\n",
              "\t<tr><th scope=row>Ref_maritalDon't know</th><td>0.99344292</td><td>4.3191783</td></tr>\n",
              "\t<tr><th scope=row>Ref_maritalDon't Know</th><td>0.05403372</td><td>4.6519854</td></tr>\n",
              "\t<tr><th scope=row>Ref_maritalLiving with partner</th><td>0.70593949</td><td>1.4459782</td></tr>\n",
              "\t<tr><th scope=row>Ref_maritalMarried</th><td>0.65110840</td><td>1.1571043</td></tr>\n",
              "\t<tr><th scope=row>Ref_maritalMarried/Living with partner</th><td>0.52609420</td><td>1.4034453</td></tr>\n",
              "\t<tr><th scope=row>Ref_maritalNever married</th><td>0.88804990</td><td>1.6911371</td></tr>\n",
              "\t<tr><th scope=row>Ref_maritalNever Married</th><td>0.61944846</td><td>1.9838389</td></tr>\n",
              "\t<tr><th scope=row>Ref_maritalRefused</th><td>0.61998511</td><td>2.6967852</td></tr>\n",
              "\t<tr><th scope=row>Ref_maritalSeparated</th><td>0.67621273</td><td>1.3654326</td></tr>\n",
              "\t<tr><th scope=row>Ref_maritalWidowed</th><td>0.64509146</td><td>1.9182846</td></tr>\n",
              "\t<tr><th scope=row>Ref_maritalWidowed/Divorced/Separated</th><td>0.51157480</td><td>2.1089890</td></tr>\n",
              "</tbody>\n",
              "</table>\n"
            ],
            "text/markdown": "\nA matrix: 21 × 2 of type dbl\n\n| <!--/--> | 2.5 % | 97.5 % |\n|---|---|---|\n| (Intercept) | 0.05127831 | 0.1052581 |\n| BMI_num1 | 1.11788292 | 1.8411798 |\n| BMI_num2 | 1.40536138 | 2.4170847 |\n| GenderMale | 1.32963080 | 1.7459982 |\n| Age_y | 1.03015716 | 1.0809017 |\n| EthnicityNon-Hispanic Black | 1.50913201 | 2.1035096 |\n| EthnicityNon-Hispanic White | 1.05825934 | 1.5388201 |\n| EthnicityOther Hispanic | 1.34340732 | 2.1328251 |\n| EthnicityOther Race - Including Multi-Rac | 1.05689822 | 1.7502394 |\n| Ref_gendMale | 0.77839418 | 1.0784866 |\n| Ref_maritalDon't know | 0.99344292 | 4.3191783 |\n| Ref_maritalDon't Know | 0.05403372 | 4.6519854 |\n| Ref_maritalLiving with partner | 0.70593949 | 1.4459782 |\n| Ref_maritalMarried | 0.65110840 | 1.1571043 |\n| Ref_maritalMarried/Living with partner | 0.52609420 | 1.4034453 |\n| Ref_maritalNever married | 0.88804990 | 1.6911371 |\n| Ref_maritalNever Married | 0.61944846 | 1.9838389 |\n| Ref_maritalRefused | 0.61998511 | 2.6967852 |\n| Ref_maritalSeparated | 0.67621273 | 1.3654326 |\n| Ref_maritalWidowed | 0.64509146 | 1.9182846 |\n| Ref_maritalWidowed/Divorced/Separated | 0.51157480 | 2.1089890 |\n\n",
            "text/latex": "A matrix: 21 × 2 of type dbl\n\\begin{tabular}{r|ll}\n  & 2.5 \\% & 97.5 \\%\\\\\n\\hline\n\t(Intercept) & 0.05127831 & 0.1052581\\\\\n\tBMI\\_num1 & 1.11788292 & 1.8411798\\\\\n\tBMI\\_num2 & 1.40536138 & 2.4170847\\\\\n\tGenderMale & 1.32963080 & 1.7459982\\\\\n\tAge\\_y & 1.03015716 & 1.0809017\\\\\n\tEthnicityNon-Hispanic Black & 1.50913201 & 2.1035096\\\\\n\tEthnicityNon-Hispanic White & 1.05825934 & 1.5388201\\\\\n\tEthnicityOther Hispanic & 1.34340732 & 2.1328251\\\\\n\tEthnicityOther Race - Including Multi-Rac & 1.05689822 & 1.7502394\\\\\n\tRef\\_gendMale & 0.77839418 & 1.0784866\\\\\n\tRef\\_maritalDon't know & 0.99344292 & 4.3191783\\\\\n\tRef\\_maritalDon't Know & 0.05403372 & 4.6519854\\\\\n\tRef\\_maritalLiving with partner & 0.70593949 & 1.4459782\\\\\n\tRef\\_maritalMarried & 0.65110840 & 1.1571043\\\\\n\tRef\\_maritalMarried/Living with partner & 0.52609420 & 1.4034453\\\\\n\tRef\\_maritalNever married & 0.88804990 & 1.6911371\\\\\n\tRef\\_maritalNever Married & 0.61944846 & 1.9838389\\\\\n\tRef\\_maritalRefused & 0.61998511 & 2.6967852\\\\\n\tRef\\_maritalSeparated & 0.67621273 & 1.3654326\\\\\n\tRef\\_maritalWidowed & 0.64509146 & 1.9182846\\\\\n\tRef\\_maritalWidowed/Divorced/Separated & 0.51157480 & 2.1089890\\\\\n\\end{tabular}\n",
            "text/plain": [
              "                                          2.5 %      97.5 %   \n",
              "(Intercept)                               0.05127831 0.1052581\n",
              "BMI_num1                                  1.11788292 1.8411798\n",
              "BMI_num2                                  1.40536138 2.4170847\n",
              "GenderMale                                1.32963080 1.7459982\n",
              "Age_y                                     1.03015716 1.0809017\n",
              "EthnicityNon-Hispanic Black               1.50913201 2.1035096\n",
              "EthnicityNon-Hispanic White               1.05825934 1.5388201\n",
              "EthnicityOther Hispanic                   1.34340732 2.1328251\n",
              "EthnicityOther Race - Including Multi-Rac 1.05689822 1.7502394\n",
              "Ref_gendMale                              0.77839418 1.0784866\n",
              "Ref_maritalDon't know                     0.99344292 4.3191783\n",
              "Ref_maritalDon't Know                     0.05403372 4.6519854\n",
              "Ref_maritalLiving with partner            0.70593949 1.4459782\n",
              "Ref_maritalMarried                        0.65110840 1.1571043\n",
              "Ref_maritalMarried/Living with partner    0.52609420 1.4034453\n",
              "Ref_maritalNever married                  0.88804990 1.6911371\n",
              "Ref_maritalNever Married                  0.61944846 1.9838389\n",
              "Ref_maritalRefused                        0.61998511 2.6967852\n",
              "Ref_maritalSeparated                      0.67621273 1.3654326\n",
              "Ref_maritalWidowed                        0.64509146 1.9182846\n",
              "Ref_maritalWidowed/Divorced/Separated     0.51157480 2.1089890"
            ]
          },
          "metadata": {}
        }
      ]
    },
    {
      "cell_type": "code",
      "source": [
        "#adjusted FOR age, sex, ethnicity, reference person gener and marital status Asthma and interaction of BMI and cotinine levels.\n",
        "unadjust<-svyglm(Asthma_bin~Cotinine_group:BMI_group+Gender+Age_y+Ethnicity+Ref_gend+Ref_marital , design=model1, family=binomial)\n",
        "summary(unadjust)\n",
        "\n",
        "exp(unadjust$coefficients)\n",
        "\n",
        "exp(confint(unadjust))"
      ],
      "metadata": {
        "colab": {
          "base_uri": "https://localhost:8080/",
          "height": 1000
        },
        "id": "oRxSoZOOcVvd",
        "outputId": "54f05216-5672-4926-8b81-da9dcc1d2afe"
      },
      "execution_count": null,
      "outputs": [
        {
          "output_type": "stream",
          "name": "stderr",
          "text": [
            "Warning message in eval(family$initialize):\n",
            "“non-integer #successes in a binomial glm!”\n"
          ]
        },
        {
          "output_type": "display_data",
          "data": {
            "text/plain": [
              "\n",
              "Call:\n",
              "svyglm(formula = Asthma_bin ~ Cotinine_group:BMI_group + Gender + \n",
              "    Age_y + Ethnicity + Ref_gend + Ref_marital, design = model1, \n",
              "    family = binomial)\n",
              "\n",
              "Survey design:\n",
              "svydesign(id = ~SDMVPSU, strata = ~SDMVSTRA, weight = ~WTMEC2YR, \n",
              "    data = data_NHANES, nest = TRUE)\n",
              "\n",
              "Coefficients: (1 not defined because of singularities)\n",
              "                                                 Estimate Std. Error t value\n",
              "(Intercept)                                     -2.710572   0.182233 -14.874\n",
              "GenderMale                                       0.418847   0.068859   6.083\n",
              "Age_y                                            0.056227   0.012132   4.635\n",
              "EthnicityNon-Hispanic Black                      0.540135   0.092208   5.858\n",
              "EthnicityNon-Hispanic White                      0.217109   0.097474   2.227\n",
              "EthnicityOther Hispanic                          0.519892   0.116797   4.451\n",
              "EthnicityOther Race - Including Multi-Rac        0.292490   0.126981   2.303\n",
              "Ref_gendMale                                    -0.086361   0.082232  -1.050\n",
              "Ref_maritalDon't know                            0.748869   0.357060   2.097\n",
              "Ref_maritalDon't Know                           -0.652831   1.119734  -0.583\n",
              "Ref_maritalLiving with partner                   0.001698   0.181181   0.009\n",
              "Ref_maritalMarried                              -0.114897   0.145338  -0.791\n",
              "Ref_maritalMarried/Living with partner          -0.114910   0.247159  -0.465\n",
              "Ref_maritalNever married                         0.181064   0.164312   1.102\n",
              "Ref_maritalNever Married                         0.092563   0.300017   0.309\n",
              "Ref_maritalRefused                               0.253720   0.369220   0.687\n",
              "Ref_maritalSeparated                            -0.049123   0.178206  -0.276\n",
              "Ref_maritalWidowed                               0.091534   0.274695   0.333\n",
              "Ref_maritalWidowed/Divorced/Separated            0.035919   0.355473   0.101\n",
              "Cotinine_grouphigh:BMI_groupobese                0.694530   0.182019   3.816\n",
              "Cotinine_grouplow:BMI_groupobese                 0.701910   0.194492   3.609\n",
              "Cotinine_grouphigh:BMI_groupoverweight           0.419525   0.145745   2.878\n",
              "Cotinine_grouplow:BMI_groupoverweight            0.469234   0.161759   2.901\n",
              "Cotinine_grouphigh:BMI_groupunder/normal weight  0.175485   0.090399   1.941\n",
              "                                                Pr(>|t|)    \n",
              "(Intercept)                                      < 2e-16 ***\n",
              "GenderMale                                      1.59e-08 ***\n",
              "Age_y                                           9.50e-06 ***\n",
              "EthnicityNon-Hispanic Black                     4.55e-08 ***\n",
              "EthnicityNon-Hispanic White                     0.027870 *  \n",
              "EthnicityOther Hispanic                         1.99e-05 ***\n",
              "EthnicityOther Race - Including Multi-Rac       0.023052 *  \n",
              "Ref_gendMale                                    0.295819    \n",
              "Ref_maritalDon't know                           0.038157 *  \n",
              "Ref_maritalDon't Know                           0.561019    \n",
              "Ref_maritalLiving with partner                  0.992539    \n",
              "Ref_maritalMarried                              0.430836    \n",
              "Ref_maritalMarried/Living with partner          0.642867    \n",
              "Ref_maritalNever married                        0.272782    \n",
              "Ref_maritalNever Married                        0.758240    \n",
              "Ref_maritalRefused                              0.493354    \n",
              "Ref_maritalSeparated                            0.783308    \n",
              "Ref_maritalWidowed                              0.739574    \n",
              "Ref_maritalWidowed/Divorced/Separated           0.919689    \n",
              "Cotinine_grouphigh:BMI_groupobese               0.000220 ***\n",
              "Cotinine_grouplow:BMI_groupobese                0.000457 ***\n",
              "Cotinine_grouphigh:BMI_groupoverweight          0.004766 ** \n",
              "Cotinine_grouplow:BMI_groupoverweight           0.004461 ** \n",
              "Cotinine_grouphigh:BMI_groupunder/normal weight 0.054676 .  \n",
              "---\n",
              "Signif. codes:  0 ‘***’ 0.001 ‘**’ 0.01 ‘*’ 0.05 ‘.’ 0.1 ‘ ’ 1\n",
              "\n",
              "(Dispersion parameter for binomial family taken to be 0.9945701)\n",
              "\n",
              "Number of Fisher Scoring iterations: 4\n"
            ]
          },
          "metadata": {}
        },
        {
          "output_type": "display_data",
          "data": {
            "text/html": [
              "<style>\n",
              ".dl-inline {width: auto; margin:0; padding: 0}\n",
              ".dl-inline>dt, .dl-inline>dd {float: none; width: auto; display: inline-block}\n",
              ".dl-inline>dt::after {content: \":\\0020\"; padding-right: .5ex}\n",
              ".dl-inline>dt:not(:first-of-type) {padding-left: .5ex}\n",
              "</style><dl class=dl-inline><dt>(Intercept)</dt><dd>0.0664987654655013</dd><dt>GenderMale</dt><dd>1.52020740595391</dd><dt>Age_y</dt><dd>1.05783739213995</dd><dt>EthnicityNon-Hispanic Black</dt><dd>1.71623913275342</dd><dt>EthnicityNon-Hispanic White</dt><dd>1.24248004174073</dd><dt>EthnicityOther Hispanic</dt><dd>1.68184663976263</dd><dt>EthnicityOther Race - Including Multi-Rac</dt><dd>1.33975929544527</dd><dt>Ref_gendMale</dt><dd>0.91726291021185</dd><dt>Ref_maritalDon't know</dt><dd>2.11460661636131</dd><dt>Ref_maritalDon't Know</dt><dd>0.520569729003977</dd><dt>Ref_maritalLiving with partner</dt><dd>1.00169941122368</dd><dt>Ref_maritalMarried</dt><dd>0.891458378473802</dd><dt>Ref_maritalMarried/Living with partner</dt><dd>0.891446813407585</dd><dt>Ref_maritalNever married</dt><dd>1.19849207774611</dd><dt>Ref_maritalNever Married</dt><dd>1.09698262043368</dd><dt>Ref_maritalRefused</dt><dd>1.28881079602603</dd><dt>Ref_maritalSeparated</dt><dd>0.952063655914088</dd><dt>Ref_maritalWidowed</dt><dd>1.09585416115318</dd><dt>Ref_maritalWidowed/Divorced/Separated</dt><dd>1.0365722786526</dd><dt>Cotinine_grouphigh:BMI_groupobese</dt><dd>2.00276815108895</dd><dt>Cotinine_grouplow:BMI_groupobese</dt><dd>2.01760244333204</dd><dt>Cotinine_grouphigh:BMI_groupoverweight</dt><dd>1.52123876736793</dd><dt>Cotinine_grouplow:BMI_groupoverweight</dt><dd>1.59876929236545</dd><dt>Cotinine_grouphigh:BMI_groupunder/normal weight</dt><dd>1.19182426252535</dd><dt>Cotinine_grouplow:BMI_groupunder/normal weight</dt><dd>&lt;NA&gt;</dd></dl>\n"
            ],
            "text/markdown": "(Intercept)\n:   0.0664987654655013GenderMale\n:   1.52020740595391Age_y\n:   1.05783739213995EthnicityNon-Hispanic Black\n:   1.71623913275342EthnicityNon-Hispanic White\n:   1.24248004174073EthnicityOther Hispanic\n:   1.68184663976263EthnicityOther Race - Including Multi-Rac\n:   1.33975929544527Ref_gendMale\n:   0.91726291021185Ref_maritalDon't know\n:   2.11460661636131Ref_maritalDon't Know\n:   0.520569729003977Ref_maritalLiving with partner\n:   1.00169941122368Ref_maritalMarried\n:   0.891458378473802Ref_maritalMarried/Living with partner\n:   0.891446813407585Ref_maritalNever married\n:   1.19849207774611Ref_maritalNever Married\n:   1.09698262043368Ref_maritalRefused\n:   1.28881079602603Ref_maritalSeparated\n:   0.952063655914088Ref_maritalWidowed\n:   1.09585416115318Ref_maritalWidowed/Divorced/Separated\n:   1.0365722786526Cotinine_grouphigh:BMI_groupobese\n:   2.00276815108895Cotinine_grouplow:BMI_groupobese\n:   2.01760244333204Cotinine_grouphigh:BMI_groupoverweight\n:   1.52123876736793Cotinine_grouplow:BMI_groupoverweight\n:   1.59876929236545Cotinine_grouphigh:BMI_groupunder/normal weight\n:   1.19182426252535Cotinine_grouplow:BMI_groupunder/normal weight\n:   &lt;NA&gt;\n\n",
            "text/latex": "\\begin{description*}\n\\item[(Intercept)] 0.0664987654655013\n\\item[GenderMale] 1.52020740595391\n\\item[Age\\textbackslash{}\\_y] 1.05783739213995\n\\item[EthnicityNon-Hispanic Black] 1.71623913275342\n\\item[EthnicityNon-Hispanic White] 1.24248004174073\n\\item[EthnicityOther Hispanic] 1.68184663976263\n\\item[EthnicityOther Race - Including Multi-Rac] 1.33975929544527\n\\item[Ref\\textbackslash{}\\_gendMale] 0.91726291021185\n\\item[Ref\\textbackslash{}\\_maritalDon't know] 2.11460661636131\n\\item[Ref\\textbackslash{}\\_maritalDon't Know] 0.520569729003977\n\\item[Ref\\textbackslash{}\\_maritalLiving with partner] 1.00169941122368\n\\item[Ref\\textbackslash{}\\_maritalMarried] 0.891458378473802\n\\item[Ref\\textbackslash{}\\_maritalMarried/Living with partner] 0.891446813407585\n\\item[Ref\\textbackslash{}\\_maritalNever married] 1.19849207774611\n\\item[Ref\\textbackslash{}\\_maritalNever Married] 1.09698262043368\n\\item[Ref\\textbackslash{}\\_maritalRefused] 1.28881079602603\n\\item[Ref\\textbackslash{}\\_maritalSeparated] 0.952063655914088\n\\item[Ref\\textbackslash{}\\_maritalWidowed] 1.09585416115318\n\\item[Ref\\textbackslash{}\\_maritalWidowed/Divorced/Separated] 1.0365722786526\n\\item[Cotinine\\textbackslash{}\\_grouphigh:BMI\\textbackslash{}\\_groupobese] 2.00276815108895\n\\item[Cotinine\\textbackslash{}\\_grouplow:BMI\\textbackslash{}\\_groupobese] 2.01760244333204\n\\item[Cotinine\\textbackslash{}\\_grouphigh:BMI\\textbackslash{}\\_groupoverweight] 1.52123876736793\n\\item[Cotinine\\textbackslash{}\\_grouplow:BMI\\textbackslash{}\\_groupoverweight] 1.59876929236545\n\\item[Cotinine\\textbackslash{}\\_grouphigh:BMI\\textbackslash{}\\_groupunder/normal weight] 1.19182426252535\n\\item[Cotinine\\textbackslash{}\\_grouplow:BMI\\textbackslash{}\\_groupunder/normal weight] <NA>\n\\end{description*}\n",
            "text/plain": [
              "                                    (Intercept) \n",
              "                                     0.06649877 \n",
              "                                     GenderMale \n",
              "                                     1.52020741 \n",
              "                                          Age_y \n",
              "                                     1.05783739 \n",
              "                    EthnicityNon-Hispanic Black \n",
              "                                     1.71623913 \n",
              "                    EthnicityNon-Hispanic White \n",
              "                                     1.24248004 \n",
              "                        EthnicityOther Hispanic \n",
              "                                     1.68184664 \n",
              "      EthnicityOther Race - Including Multi-Rac \n",
              "                                     1.33975930 \n",
              "                                   Ref_gendMale \n",
              "                                     0.91726291 \n",
              "                          Ref_maritalDon't know \n",
              "                                     2.11460662 \n",
              "                          Ref_maritalDon't Know \n",
              "                                     0.52056973 \n",
              "                 Ref_maritalLiving with partner \n",
              "                                     1.00169941 \n",
              "                             Ref_maritalMarried \n",
              "                                     0.89145838 \n",
              "         Ref_maritalMarried/Living with partner \n",
              "                                     0.89144681 \n",
              "                       Ref_maritalNever married \n",
              "                                     1.19849208 \n",
              "                       Ref_maritalNever Married \n",
              "                                     1.09698262 \n",
              "                             Ref_maritalRefused \n",
              "                                     1.28881080 \n",
              "                           Ref_maritalSeparated \n",
              "                                     0.95206366 \n",
              "                             Ref_maritalWidowed \n",
              "                                     1.09585416 \n",
              "          Ref_maritalWidowed/Divorced/Separated \n",
              "                                     1.03657228 \n",
              "              Cotinine_grouphigh:BMI_groupobese \n",
              "                                     2.00276815 \n",
              "               Cotinine_grouplow:BMI_groupobese \n",
              "                                     2.01760244 \n",
              "         Cotinine_grouphigh:BMI_groupoverweight \n",
              "                                     1.52123877 \n",
              "          Cotinine_grouplow:BMI_groupoverweight \n",
              "                                     1.59876929 \n",
              "Cotinine_grouphigh:BMI_groupunder/normal weight \n",
              "                                     1.19182426 \n",
              " Cotinine_grouplow:BMI_groupunder/normal weight \n",
              "                                             NA "
            ]
          },
          "metadata": {}
        },
        {
          "output_type": "display_data",
          "data": {
            "text/html": [
              "<table class=\"dataframe\">\n",
              "<caption>A matrix: 24 × 2 of type dbl</caption>\n",
              "<thead>\n",
              "\t<tr><th></th><th scope=col>2.5 %</th><th scope=col>97.5 %</th></tr>\n",
              "</thead>\n",
              "<tbody>\n",
              "\t<tr><th scope=row>(Intercept)</th><td>0.04634967</td><td>0.09540707</td></tr>\n",
              "\t<tr><th scope=row>GenderMale</th><td>1.32637602</td><td>1.74236456</td></tr>\n",
              "\t<tr><th scope=row>Age_y</th><td>1.03272029</td><td>1.08356538</td></tr>\n",
              "\t<tr><th scope=row>EthnicityNon-Hispanic Black</th><td>1.42973443</td><td>2.06015656</td></tr>\n",
              "\t<tr><th scope=row>EthnicityNon-Hispanic White</th><td>1.02432264</td><td>1.50710001</td></tr>\n",
              "\t<tr><th scope=row>EthnicityOther Hispanic</th><td>1.33447716</td><td>2.11963772</td></tr>\n",
              "\t<tr><th scope=row>EthnicityOther Race - Including Multi-Rac</th><td>1.04181602</td><td>1.72290974</td></tr>\n",
              "\t<tr><th scope=row>Ref_gendMale</th><td>0.77938826</td><td>1.07952774</td></tr>\n",
              "\t<tr><th scope=row>Ref_maritalDon't know</th><td>1.04247846</td><td>4.28935591</td></tr>\n",
              "\t<tr><th scope=row>Ref_maritalDon't Know</th><td>0.05665312</td><td>4.78336976</td></tr>\n",
              "\t<tr><th scope=row>Ref_maritalLiving with partner</th><td>0.69964143</td><td>1.43416566</td></tr>\n",
              "\t<tr><th scope=row>Ref_maritalMarried</th><td>0.66845685</td><td>1.18885467</td></tr>\n",
              "\t<tr><th scope=row>Ref_maritalMarried/Living with partner</th><td>0.54635630</td><td>1.45450400</td></tr>\n",
              "\t<tr><th scope=row>Ref_maritalNever married</th><td>0.86553651</td><td>1.65952938</td></tr>\n",
              "\t<tr><th scope=row>Ref_maritalNever Married</th><td>0.60549221</td><td>1.98742584</td></tr>\n",
              "\t<tr><th scope=row>Ref_maritalRefused</th><td>0.62024891</td><td>2.67801076</td></tr>\n",
              "\t<tr><th scope=row>Ref_maritalSeparated</th><td>0.66890378</td><td>1.35509058</td></tr>\n",
              "\t<tr><th scope=row>Ref_maritalWidowed</th><td>0.63598266</td><td>1.88825327</td></tr>\n",
              "\t<tr><th scope=row>Ref_maritalWidowed/Divorced/Separated</th><td>0.51262785</td><td>2.09602754</td></tr>\n",
              "\t<tr><th scope=row>Cotinine_grouphigh:BMI_groupobese</th><td>1.39652372</td><td>2.87218913</td></tr>\n",
              "\t<tr><th scope=row>Cotinine_grouplow:BMI_groupobese</th><td>1.37253291</td><td>2.96584482</td></tr>\n",
              "\t<tr><th scope=row>Cotinine_grouphigh:BMI_groupoverweight</th><td>1.13977755</td><td>2.03036758</td></tr>\n",
              "\t<tr><th scope=row>Cotinine_grouplow:BMI_groupoverweight</th><td>1.16046440</td><td>2.20262100</td></tr>\n",
              "\t<tr><th scope=row>Cotinine_grouphigh:BMI_groupunder/normal weight</th><td>0.99642925</td><td>1.42553531</td></tr>\n",
              "</tbody>\n",
              "</table>\n"
            ],
            "text/markdown": "\nA matrix: 24 × 2 of type dbl\n\n| <!--/--> | 2.5 % | 97.5 % |\n|---|---|---|\n| (Intercept) | 0.04634967 | 0.09540707 |\n| GenderMale | 1.32637602 | 1.74236456 |\n| Age_y | 1.03272029 | 1.08356538 |\n| EthnicityNon-Hispanic Black | 1.42973443 | 2.06015656 |\n| EthnicityNon-Hispanic White | 1.02432264 | 1.50710001 |\n| EthnicityOther Hispanic | 1.33447716 | 2.11963772 |\n| EthnicityOther Race - Including Multi-Rac | 1.04181602 | 1.72290974 |\n| Ref_gendMale | 0.77938826 | 1.07952774 |\n| Ref_maritalDon't know | 1.04247846 | 4.28935591 |\n| Ref_maritalDon't Know | 0.05665312 | 4.78336976 |\n| Ref_maritalLiving with partner | 0.69964143 | 1.43416566 |\n| Ref_maritalMarried | 0.66845685 | 1.18885467 |\n| Ref_maritalMarried/Living with partner | 0.54635630 | 1.45450400 |\n| Ref_maritalNever married | 0.86553651 | 1.65952938 |\n| Ref_maritalNever Married | 0.60549221 | 1.98742584 |\n| Ref_maritalRefused | 0.62024891 | 2.67801076 |\n| Ref_maritalSeparated | 0.66890378 | 1.35509058 |\n| Ref_maritalWidowed | 0.63598266 | 1.88825327 |\n| Ref_maritalWidowed/Divorced/Separated | 0.51262785 | 2.09602754 |\n| Cotinine_grouphigh:BMI_groupobese | 1.39652372 | 2.87218913 |\n| Cotinine_grouplow:BMI_groupobese | 1.37253291 | 2.96584482 |\n| Cotinine_grouphigh:BMI_groupoverweight | 1.13977755 | 2.03036758 |\n| Cotinine_grouplow:BMI_groupoverweight | 1.16046440 | 2.20262100 |\n| Cotinine_grouphigh:BMI_groupunder/normal weight | 0.99642925 | 1.42553531 |\n\n",
            "text/latex": "A matrix: 24 × 2 of type dbl\n\\begin{tabular}{r|ll}\n  & 2.5 \\% & 97.5 \\%\\\\\n\\hline\n\t(Intercept) & 0.04634967 & 0.09540707\\\\\n\tGenderMale & 1.32637602 & 1.74236456\\\\\n\tAge\\_y & 1.03272029 & 1.08356538\\\\\n\tEthnicityNon-Hispanic Black & 1.42973443 & 2.06015656\\\\\n\tEthnicityNon-Hispanic White & 1.02432264 & 1.50710001\\\\\n\tEthnicityOther Hispanic & 1.33447716 & 2.11963772\\\\\n\tEthnicityOther Race - Including Multi-Rac & 1.04181602 & 1.72290974\\\\\n\tRef\\_gendMale & 0.77938826 & 1.07952774\\\\\n\tRef\\_maritalDon't know & 1.04247846 & 4.28935591\\\\\n\tRef\\_maritalDon't Know & 0.05665312 & 4.78336976\\\\\n\tRef\\_maritalLiving with partner & 0.69964143 & 1.43416566\\\\\n\tRef\\_maritalMarried & 0.66845685 & 1.18885467\\\\\n\tRef\\_maritalMarried/Living with partner & 0.54635630 & 1.45450400\\\\\n\tRef\\_maritalNever married & 0.86553651 & 1.65952938\\\\\n\tRef\\_maritalNever Married & 0.60549221 & 1.98742584\\\\\n\tRef\\_maritalRefused & 0.62024891 & 2.67801076\\\\\n\tRef\\_maritalSeparated & 0.66890378 & 1.35509058\\\\\n\tRef\\_maritalWidowed & 0.63598266 & 1.88825327\\\\\n\tRef\\_maritalWidowed/Divorced/Separated & 0.51262785 & 2.09602754\\\\\n\tCotinine\\_grouphigh:BMI\\_groupobese & 1.39652372 & 2.87218913\\\\\n\tCotinine\\_grouplow:BMI\\_groupobese & 1.37253291 & 2.96584482\\\\\n\tCotinine\\_grouphigh:BMI\\_groupoverweight & 1.13977755 & 2.03036758\\\\\n\tCotinine\\_grouplow:BMI\\_groupoverweight & 1.16046440 & 2.20262100\\\\\n\tCotinine\\_grouphigh:BMI\\_groupunder/normal weight & 0.99642925 & 1.42553531\\\\\n\\end{tabular}\n",
            "text/plain": [
              "                                                2.5 %      97.5 %    \n",
              "(Intercept)                                     0.04634967 0.09540707\n",
              "GenderMale                                      1.32637602 1.74236456\n",
              "Age_y                                           1.03272029 1.08356538\n",
              "EthnicityNon-Hispanic Black                     1.42973443 2.06015656\n",
              "EthnicityNon-Hispanic White                     1.02432264 1.50710001\n",
              "EthnicityOther Hispanic                         1.33447716 2.11963772\n",
              "EthnicityOther Race - Including Multi-Rac       1.04181602 1.72290974\n",
              "Ref_gendMale                                    0.77938826 1.07952774\n",
              "Ref_maritalDon't know                           1.04247846 4.28935591\n",
              "Ref_maritalDon't Know                           0.05665312 4.78336976\n",
              "Ref_maritalLiving with partner                  0.69964143 1.43416566\n",
              "Ref_maritalMarried                              0.66845685 1.18885467\n",
              "Ref_maritalMarried/Living with partner          0.54635630 1.45450400\n",
              "Ref_maritalNever married                        0.86553651 1.65952938\n",
              "Ref_maritalNever Married                        0.60549221 1.98742584\n",
              "Ref_maritalRefused                              0.62024891 2.67801076\n",
              "Ref_maritalSeparated                            0.66890378 1.35509058\n",
              "Ref_maritalWidowed                              0.63598266 1.88825327\n",
              "Ref_maritalWidowed/Divorced/Separated           0.51262785 2.09602754\n",
              "Cotinine_grouphigh:BMI_groupobese               1.39652372 2.87218913\n",
              "Cotinine_grouplow:BMI_groupobese                1.37253291 2.96584482\n",
              "Cotinine_grouphigh:BMI_groupoverweight          1.13977755 2.03036758\n",
              "Cotinine_grouplow:BMI_groupoverweight           1.16046440 2.20262100\n",
              "Cotinine_grouphigh:BMI_groupunder/normal weight 0.99642925 1.42553531"
            ]
          },
          "metadata": {}
        }
      ]
    },
    {
      "cell_type": "markdown",
      "source": [
        "## Analysis step 4: stratify by sex"
      ],
      "metadata": {
        "id": "_pwN5_WKcXaE"
      }
    },
    {
      "cell_type": "code",
      "source": [
        "### Stratified analysis by sex- Splitting sex up to male and female\n",
        "\n",
        "data_males<-filter(data_NHANES, Gender == \"Male\") #only males\n",
        "data_females<-filter(data_NHANES, Gender == \"Female\") #only females\n",
        "\n",
        "#adjusted FOR age, sex, ethnicity, reference person gender and marital status- serum cotinine / BMI interaction and asthma \n",
        "model2<- svydesign(id = ~SDMVPSU, strata = ~SDMVSTRA, weight = ~WTMEC2YR, data= data_males, nest= TRUE) #survey model for only males\n",
        "model3<- svydesign(id = ~SDMVPSU, strata = ~SDMVSTRA, weight = ~WTMEC2YR, data= data_females, nest= TRUE) #survey model for only females"
      ],
      "metadata": {
        "id": "_DPDg692mM0l"
      },
      "execution_count": null,
      "outputs": []
    },
    {
      "cell_type": "code",
      "source": [
        "#Run adjusted model for interaction term- MALES\n",
        "unadjust<-svyglm(Asthma_bin~Cotinine_group:BMI_group+Age_y+Ethnicity+Ref_gend+Ref_marital , design=model2, family=binomial)\n",
        "summary(unadjust)"
      ],
      "metadata": {
        "colab": {
          "base_uri": "https://localhost:8080/",
          "height": 1000
        },
        "id": "9adB0BOHmMqY",
        "outputId": "bf0a6369-eb4f-4493-dddb-39ab6ce82ba1"
      },
      "execution_count": null,
      "outputs": [
        {
          "output_type": "stream",
          "name": "stderr",
          "text": [
            "Warning message in eval(family$initialize):\n",
            "“non-integer #successes in a binomial glm!”\n"
          ]
        },
        {
          "output_type": "display_data",
          "data": {
            "text/plain": [
              "\n",
              "Call:\n",
              "svyglm(formula = Asthma_bin ~ Cotinine_group:BMI_group + Age_y + \n",
              "    Ethnicity + Ref_gend + Ref_marital, design = model2, family = binomial)\n",
              "\n",
              "Survey design:\n",
              "svydesign(id = ~SDMVPSU, strata = ~SDMVSTRA, weight = ~WTMEC2YR, \n",
              "    data = data_males, nest = TRUE)\n",
              "\n",
              "Coefficients: (1 not defined because of singularities)\n",
              "                                                Estimate Std. Error t value\n",
              "(Intercept)                                     -2.18640    0.21440 -10.198\n",
              "Age_y                                            0.04276    0.01630   2.623\n",
              "EthnicityNon-Hispanic Black                      0.51891    0.11050   4.696\n",
              "EthnicityNon-Hispanic White                      0.15742    0.11734   1.341\n",
              "EthnicityOther Hispanic                          0.32619    0.16269   2.005\n",
              "EthnicityOther Race - Including Multi-Rac        0.13065    0.15554   0.840\n",
              "Ref_gendMale                                    -0.04054    0.10732  -0.378\n",
              "Ref_maritalDon't know                            0.78526    0.39272   2.000\n",
              "Ref_maritalDon't Know                            0.73757    1.09096   0.676\n",
              "Ref_maritalLiving with partner                  -0.05289    0.20757  -0.255\n",
              "Ref_maritalMarried                              -0.02481    0.18024  -0.138\n",
              "Ref_maritalMarried/Living with partner          -0.19512    0.27627  -0.706\n",
              "Ref_maritalNever married                         0.23136    0.20540   1.126\n",
              "Ref_maritalNever Married                         0.03955    0.36232   0.109\n",
              "Ref_maritalRefused                               0.49105    0.41178   1.193\n",
              "Ref_maritalSeparated                             0.13896    0.22757   0.611\n",
              "Ref_maritalWidowed                               0.45230    0.34787   1.300\n",
              "Ref_maritalWidowed/Divorced/Separated           -0.13722    0.46371  -0.296\n",
              "Cotinine_grouphigh:BMI_groupobese                0.71334    0.25421   2.806\n",
              "Cotinine_grouplow:BMI_groupobese                 0.70493    0.22803   3.091\n",
              "Cotinine_grouphigh:BMI_groupoverweight           0.36496    0.17013   2.145\n",
              "Cotinine_grouplow:BMI_groupoverweight            0.32870    0.21347   1.540\n",
              "Cotinine_grouphigh:BMI_groupunder/normal weight  0.16609    0.11116   1.494\n",
              "                                                Pr(>|t|)    \n",
              "(Intercept)                                      < 2e-16 ***\n",
              "Age_y                                            0.00989 ** \n",
              "EthnicityNon-Hispanic Black                     7.34e-06 ***\n",
              "EthnicityNon-Hispanic White                      0.18238    \n",
              "EthnicityOther Hispanic                          0.04730 *  \n",
              "EthnicityOther Race - Including Multi-Rac        0.40264    \n",
              "Ref_gendMale                                     0.70630    \n",
              "Ref_maritalDon't know                            0.04789 *  \n",
              "Ref_maritalDon't Know                            0.50034    \n",
              "Ref_maritalLiving with partner                   0.79934    \n",
              "Ref_maritalMarried                               0.89073    \n",
              "Ref_maritalMarried/Living with partner           0.48142    \n",
              "Ref_maritalNever married                         0.26234    \n",
              "Ref_maritalNever Married                         0.91327    \n",
              "Ref_maritalRefused                               0.23550    \n",
              "Ref_maritalSeparated                             0.54265    \n",
              "Ref_maritalWidowed                               0.19611    \n",
              "Ref_maritalWidowed/Divorced/Separated            0.76782    \n",
              "Cotinine_grouphigh:BMI_groupobese                0.00588 ** \n",
              "Cotinine_grouplow:BMI_groupobese                 0.00249 ** \n",
              "Cotinine_grouphigh:BMI_groupoverweight           0.03402 *  \n",
              "Cotinine_grouplow:BMI_groupoverweight            0.12632    \n",
              "Cotinine_grouphigh:BMI_groupunder/normal weight  0.13787    \n",
              "---\n",
              "Signif. codes:  0 ‘***’ 0.001 ‘**’ 0.01 ‘*’ 0.05 ‘.’ 0.1 ‘ ’ 1\n",
              "\n",
              "(Dispersion parameter for binomial family taken to be 0.9981674)\n",
              "\n",
              "Number of Fisher Scoring iterations: 4\n"
            ]
          },
          "metadata": {}
        }
      ]
    },
    {
      "cell_type": "code",
      "source": [
        "#get OR and 95% CI\n",
        "exp(unadjust$coefficients)\n",
        "exp(confint(unadjust))\n"
      ],
      "metadata": {
        "colab": {
          "base_uri": "https://localhost:8080/",
          "height": 909
        },
        "id": "GthcqmsqnTxh",
        "outputId": "055d2f77-43d1-4de3-892c-a72d051a6f5a"
      },
      "execution_count": null,
      "outputs": [
        {
          "output_type": "display_data",
          "data": {
            "text/html": [
              "<style>\n",
              ".dl-inline {width: auto; margin:0; padding: 0}\n",
              ".dl-inline>dt, .dl-inline>dd {float: none; width: auto; display: inline-block}\n",
              ".dl-inline>dt::after {content: \":\\0020\"; padding-right: .5ex}\n",
              ".dl-inline>dt:not(:first-of-type) {padding-left: .5ex}\n",
              "</style><dl class=dl-inline><dt>(Intercept)</dt><dd>0.112320321710336</dd><dt>Age_y</dt><dd>1.04368317592867</dd><dt>EthnicityNon-Hispanic Black</dt><dd>1.68018717664098</dd><dt>EthnicityNon-Hispanic White</dt><dd>1.17048267438763</dd><dt>EthnicityOther Hispanic</dt><dd>1.38567992695307</dd><dt>EthnicityOther Race - Including Multi-Rac</dt><dd>1.1395680691716</dd><dt>Ref_gendMale</dt><dd>0.960269622132944</dd><dt>Ref_maritalDon't know</dt><dd>2.19297282396509</dd><dt>Ref_maritalDon't Know</dt><dd>2.09085565341519</dd><dt>Ref_maritalLiving with partner</dt><dd>0.948487071242783</dd><dt>Ref_maritalMarried</dt><dd>0.975490434599422</dd><dt>Ref_maritalMarried/Living with partner</dt><dd>0.822733151014789</dd><dt>Ref_maritalNever married</dt><dd>1.26031227215975</dd><dt>Ref_maritalNever Married</dt><dd>1.0403386604052</dd><dt>Ref_maritalRefused</dt><dd>1.63403180322322</dd><dt>Ref_maritalSeparated</dt><dd>1.14907807163586</dd><dt>Ref_maritalWidowed</dt><dd>1.57191895120105</dd><dt>Ref_maritalWidowed/Divorced/Separated</dt><dd>0.871774678926376</dd><dt>Cotinine_grouphigh:BMI_groupobese</dt><dd>2.04080210447172</dd><dt>Cotinine_grouplow:BMI_groupobese</dt><dd>2.02370783375017</dd><dt>Cotinine_grouphigh:BMI_groupoverweight</dt><dd>1.44045249525587</dd><dt>Cotinine_grouplow:BMI_groupoverweight</dt><dd>1.38916675851251</dd><dt>Cotinine_grouphigh:BMI_groupunder/normal weight</dt><dd>1.1806768392015</dd><dt>Cotinine_grouplow:BMI_groupunder/normal weight</dt><dd>&lt;NA&gt;</dd></dl>\n"
            ],
            "text/markdown": "(Intercept)\n:   0.112320321710336Age_y\n:   1.04368317592867EthnicityNon-Hispanic Black\n:   1.68018717664098EthnicityNon-Hispanic White\n:   1.17048267438763EthnicityOther Hispanic\n:   1.38567992695307EthnicityOther Race - Including Multi-Rac\n:   1.1395680691716Ref_gendMale\n:   0.960269622132944Ref_maritalDon't know\n:   2.19297282396509Ref_maritalDon't Know\n:   2.09085565341519Ref_maritalLiving with partner\n:   0.948487071242783Ref_maritalMarried\n:   0.975490434599422Ref_maritalMarried/Living with partner\n:   0.822733151014789Ref_maritalNever married\n:   1.26031227215975Ref_maritalNever Married\n:   1.0403386604052Ref_maritalRefused\n:   1.63403180322322Ref_maritalSeparated\n:   1.14907807163586Ref_maritalWidowed\n:   1.57191895120105Ref_maritalWidowed/Divorced/Separated\n:   0.871774678926376Cotinine_grouphigh:BMI_groupobese\n:   2.04080210447172Cotinine_grouplow:BMI_groupobese\n:   2.02370783375017Cotinine_grouphigh:BMI_groupoverweight\n:   1.44045249525587Cotinine_grouplow:BMI_groupoverweight\n:   1.38916675851251Cotinine_grouphigh:BMI_groupunder/normal weight\n:   1.1806768392015Cotinine_grouplow:BMI_groupunder/normal weight\n:   &lt;NA&gt;\n\n",
            "text/latex": "\\begin{description*}\n\\item[(Intercept)] 0.112320321710336\n\\item[Age\\textbackslash{}\\_y] 1.04368317592867\n\\item[EthnicityNon-Hispanic Black] 1.68018717664098\n\\item[EthnicityNon-Hispanic White] 1.17048267438763\n\\item[EthnicityOther Hispanic] 1.38567992695307\n\\item[EthnicityOther Race - Including Multi-Rac] 1.1395680691716\n\\item[Ref\\textbackslash{}\\_gendMale] 0.960269622132944\n\\item[Ref\\textbackslash{}\\_maritalDon't know] 2.19297282396509\n\\item[Ref\\textbackslash{}\\_maritalDon't Know] 2.09085565341519\n\\item[Ref\\textbackslash{}\\_maritalLiving with partner] 0.948487071242783\n\\item[Ref\\textbackslash{}\\_maritalMarried] 0.975490434599422\n\\item[Ref\\textbackslash{}\\_maritalMarried/Living with partner] 0.822733151014789\n\\item[Ref\\textbackslash{}\\_maritalNever married] 1.26031227215975\n\\item[Ref\\textbackslash{}\\_maritalNever Married] 1.0403386604052\n\\item[Ref\\textbackslash{}\\_maritalRefused] 1.63403180322322\n\\item[Ref\\textbackslash{}\\_maritalSeparated] 1.14907807163586\n\\item[Ref\\textbackslash{}\\_maritalWidowed] 1.57191895120105\n\\item[Ref\\textbackslash{}\\_maritalWidowed/Divorced/Separated] 0.871774678926376\n\\item[Cotinine\\textbackslash{}\\_grouphigh:BMI\\textbackslash{}\\_groupobese] 2.04080210447172\n\\item[Cotinine\\textbackslash{}\\_grouplow:BMI\\textbackslash{}\\_groupobese] 2.02370783375017\n\\item[Cotinine\\textbackslash{}\\_grouphigh:BMI\\textbackslash{}\\_groupoverweight] 1.44045249525587\n\\item[Cotinine\\textbackslash{}\\_grouplow:BMI\\textbackslash{}\\_groupoverweight] 1.38916675851251\n\\item[Cotinine\\textbackslash{}\\_grouphigh:BMI\\textbackslash{}\\_groupunder/normal weight] 1.1806768392015\n\\item[Cotinine\\textbackslash{}\\_grouplow:BMI\\textbackslash{}\\_groupunder/normal weight] <NA>\n\\end{description*}\n",
            "text/plain": [
              "                                    (Intercept) \n",
              "                                      0.1123203 \n",
              "                                          Age_y \n",
              "                                      1.0436832 \n",
              "                    EthnicityNon-Hispanic Black \n",
              "                                      1.6801872 \n",
              "                    EthnicityNon-Hispanic White \n",
              "                                      1.1704827 \n",
              "                        EthnicityOther Hispanic \n",
              "                                      1.3856799 \n",
              "      EthnicityOther Race - Including Multi-Rac \n",
              "                                      1.1395681 \n",
              "                                   Ref_gendMale \n",
              "                                      0.9602696 \n",
              "                          Ref_maritalDon't know \n",
              "                                      2.1929728 \n",
              "                          Ref_maritalDon't Know \n",
              "                                      2.0908557 \n",
              "                 Ref_maritalLiving with partner \n",
              "                                      0.9484871 \n",
              "                             Ref_maritalMarried \n",
              "                                      0.9754904 \n",
              "         Ref_maritalMarried/Living with partner \n",
              "                                      0.8227332 \n",
              "                       Ref_maritalNever married \n",
              "                                      1.2603123 \n",
              "                       Ref_maritalNever Married \n",
              "                                      1.0403387 \n",
              "                             Ref_maritalRefused \n",
              "                                      1.6340318 \n",
              "                           Ref_maritalSeparated \n",
              "                                      1.1490781 \n",
              "                             Ref_maritalWidowed \n",
              "                                      1.5719190 \n",
              "          Ref_maritalWidowed/Divorced/Separated \n",
              "                                      0.8717747 \n",
              "              Cotinine_grouphigh:BMI_groupobese \n",
              "                                      2.0408021 \n",
              "               Cotinine_grouplow:BMI_groupobese \n",
              "                                      2.0237078 \n",
              "         Cotinine_grouphigh:BMI_groupoverweight \n",
              "                                      1.4404525 \n",
              "          Cotinine_grouplow:BMI_groupoverweight \n",
              "                                      1.3891668 \n",
              "Cotinine_grouphigh:BMI_groupunder/normal weight \n",
              "                                      1.1806768 \n",
              " Cotinine_grouplow:BMI_groupunder/normal weight \n",
              "                                             NA "
            ]
          },
          "metadata": {}
        },
        {
          "output_type": "display_data",
          "data": {
            "text/html": [
              "<table class=\"dataframe\">\n",
              "<caption>A matrix: 23 × 2 of type dbl</caption>\n",
              "<thead>\n",
              "\t<tr><th></th><th scope=col>2.5 %</th><th scope=col>97.5 %</th></tr>\n",
              "</thead>\n",
              "<tbody>\n",
              "\t<tr><th scope=row>(Intercept)</th><td>0.07345729</td><td> 0.1717441</td></tr>\n",
              "\t<tr><th scope=row>Age_y</th><td>1.01052305</td><td> 1.0779314</td></tr>\n",
              "\t<tr><th scope=row>EthnicityNon-Hispanic Black</th><td>1.34991369</td><td> 2.0912662</td></tr>\n",
              "\t<tr><th scope=row>EthnicityNon-Hispanic White</th><td>0.92774469</td><td> 1.4767314</td></tr>\n",
              "\t<tr><th scope=row>EthnicityOther Hispanic</th><td>1.00396214</td><td> 1.9125311</td></tr>\n",
              "\t<tr><th scope=row>EthnicityOther Race - Including Multi-Rac</th><td>0.83743662</td><td> 1.5507029</td></tr>\n",
              "\t<tr><th scope=row>Ref_gendMale</th><td>0.77638806</td><td> 1.1877021</td></tr>\n",
              "\t<tr><th scope=row>Ref_maritalDon't know</th><td>1.00744955</td><td> 4.7735688</td></tr>\n",
              "\t<tr><th scope=row>Ref_maritalDon't Know</th><td>0.24093893</td><td>18.1443379</td></tr>\n",
              "\t<tr><th scope=row>Ref_maritalLiving with partner</th><td>0.62875885</td><td> 1.4307993</td></tr>\n",
              "\t<tr><th scope=row>Ref_maritalMarried</th><td>0.68262937</td><td> 1.3939945</td></tr>\n",
              "\t<tr><th scope=row>Ref_maritalMarried/Living with partner</th><td>0.47601690</td><td> 1.4219870</td></tr>\n",
              "\t<tr><th scope=row>Ref_maritalNever married</th><td>0.83906241</td><td> 1.8930499</td></tr>\n",
              "\t<tr><th scope=row>Ref_maritalNever Married</th><td>0.50759476</td><td> 2.1322216</td></tr>\n",
              "\t<tr><th scope=row>Ref_maritalRefused</th><td>0.72286354</td><td> 3.6937261</td></tr>\n",
              "\t<tr><th scope=row>Ref_maritalSeparated</th><td>0.73214494</td><td> 1.8034413</td></tr>\n",
              "\t<tr><th scope=row>Ref_maritalWidowed</th><td>0.78923252</td><td> 3.1308000</td></tr>\n",
              "\t<tr><th scope=row>Ref_maritalWidowed/Divorced/Separated</th><td>0.34796110</td><td> 2.1841266</td></tr>\n",
              "\t<tr><th scope=row>Cotinine_grouphigh:BMI_groupobese</th><td>1.23349127</td><td> 3.3764918</td></tr>\n",
              "\t<tr><th scope=row>Cotinine_grouplow:BMI_groupobese</th><td>1.28826029</td><td> 3.1790108</td></tr>\n",
              "\t<tr><th scope=row>Cotinine_grouphigh:BMI_groupoverweight</th><td>1.02839906</td><td> 2.0176053</td></tr>\n",
              "\t<tr><th scope=row>Cotinine_grouplow:BMI_groupoverweight</th><td>0.91019765</td><td> 2.1201816</td></tr>\n",
              "\t<tr><th scope=row>Cotinine_grouphigh:BMI_groupunder/normal weight</th><td>0.94734837</td><td> 1.4714733</td></tr>\n",
              "</tbody>\n",
              "</table>\n"
            ],
            "text/markdown": "\nA matrix: 23 × 2 of type dbl\n\n| <!--/--> | 2.5 % | 97.5 % |\n|---|---|---|\n| (Intercept) | 0.07345729 |  0.1717441 |\n| Age_y | 1.01052305 |  1.0779314 |\n| EthnicityNon-Hispanic Black | 1.34991369 |  2.0912662 |\n| EthnicityNon-Hispanic White | 0.92774469 |  1.4767314 |\n| EthnicityOther Hispanic | 1.00396214 |  1.9125311 |\n| EthnicityOther Race - Including Multi-Rac | 0.83743662 |  1.5507029 |\n| Ref_gendMale | 0.77638806 |  1.1877021 |\n| Ref_maritalDon't know | 1.00744955 |  4.7735688 |\n| Ref_maritalDon't Know | 0.24093893 | 18.1443379 |\n| Ref_maritalLiving with partner | 0.62875885 |  1.4307993 |\n| Ref_maritalMarried | 0.68262937 |  1.3939945 |\n| Ref_maritalMarried/Living with partner | 0.47601690 |  1.4219870 |\n| Ref_maritalNever married | 0.83906241 |  1.8930499 |\n| Ref_maritalNever Married | 0.50759476 |  2.1322216 |\n| Ref_maritalRefused | 0.72286354 |  3.6937261 |\n| Ref_maritalSeparated | 0.73214494 |  1.8034413 |\n| Ref_maritalWidowed | 0.78923252 |  3.1308000 |\n| Ref_maritalWidowed/Divorced/Separated | 0.34796110 |  2.1841266 |\n| Cotinine_grouphigh:BMI_groupobese | 1.23349127 |  3.3764918 |\n| Cotinine_grouplow:BMI_groupobese | 1.28826029 |  3.1790108 |\n| Cotinine_grouphigh:BMI_groupoverweight | 1.02839906 |  2.0176053 |\n| Cotinine_grouplow:BMI_groupoverweight | 0.91019765 |  2.1201816 |\n| Cotinine_grouphigh:BMI_groupunder/normal weight | 0.94734837 |  1.4714733 |\n\n",
            "text/latex": "A matrix: 23 × 2 of type dbl\n\\begin{tabular}{r|ll}\n  & 2.5 \\% & 97.5 \\%\\\\\n\\hline\n\t(Intercept) & 0.07345729 &  0.1717441\\\\\n\tAge\\_y & 1.01052305 &  1.0779314\\\\\n\tEthnicityNon-Hispanic Black & 1.34991369 &  2.0912662\\\\\n\tEthnicityNon-Hispanic White & 0.92774469 &  1.4767314\\\\\n\tEthnicityOther Hispanic & 1.00396214 &  1.9125311\\\\\n\tEthnicityOther Race - Including Multi-Rac & 0.83743662 &  1.5507029\\\\\n\tRef\\_gendMale & 0.77638806 &  1.1877021\\\\\n\tRef\\_maritalDon't know & 1.00744955 &  4.7735688\\\\\n\tRef\\_maritalDon't Know & 0.24093893 & 18.1443379\\\\\n\tRef\\_maritalLiving with partner & 0.62875885 &  1.4307993\\\\\n\tRef\\_maritalMarried & 0.68262937 &  1.3939945\\\\\n\tRef\\_maritalMarried/Living with partner & 0.47601690 &  1.4219870\\\\\n\tRef\\_maritalNever married & 0.83906241 &  1.8930499\\\\\n\tRef\\_maritalNever Married & 0.50759476 &  2.1322216\\\\\n\tRef\\_maritalRefused & 0.72286354 &  3.6937261\\\\\n\tRef\\_maritalSeparated & 0.73214494 &  1.8034413\\\\\n\tRef\\_maritalWidowed & 0.78923252 &  3.1308000\\\\\n\tRef\\_maritalWidowed/Divorced/Separated & 0.34796110 &  2.1841266\\\\\n\tCotinine\\_grouphigh:BMI\\_groupobese & 1.23349127 &  3.3764918\\\\\n\tCotinine\\_grouplow:BMI\\_groupobese & 1.28826029 &  3.1790108\\\\\n\tCotinine\\_grouphigh:BMI\\_groupoverweight & 1.02839906 &  2.0176053\\\\\n\tCotinine\\_grouplow:BMI\\_groupoverweight & 0.91019765 &  2.1201816\\\\\n\tCotinine\\_grouphigh:BMI\\_groupunder/normal weight & 0.94734837 &  1.4714733\\\\\n\\end{tabular}\n",
            "text/plain": [
              "                                                2.5 %      97.5 %    \n",
              "(Intercept)                                     0.07345729  0.1717441\n",
              "Age_y                                           1.01052305  1.0779314\n",
              "EthnicityNon-Hispanic Black                     1.34991369  2.0912662\n",
              "EthnicityNon-Hispanic White                     0.92774469  1.4767314\n",
              "EthnicityOther Hispanic                         1.00396214  1.9125311\n",
              "EthnicityOther Race - Including Multi-Rac       0.83743662  1.5507029\n",
              "Ref_gendMale                                    0.77638806  1.1877021\n",
              "Ref_maritalDon't know                           1.00744955  4.7735688\n",
              "Ref_maritalDon't Know                           0.24093893 18.1443379\n",
              "Ref_maritalLiving with partner                  0.62875885  1.4307993\n",
              "Ref_maritalMarried                              0.68262937  1.3939945\n",
              "Ref_maritalMarried/Living with partner          0.47601690  1.4219870\n",
              "Ref_maritalNever married                        0.83906241  1.8930499\n",
              "Ref_maritalNever Married                        0.50759476  2.1322216\n",
              "Ref_maritalRefused                              0.72286354  3.6937261\n",
              "Ref_maritalSeparated                            0.73214494  1.8034413\n",
              "Ref_maritalWidowed                              0.78923252  3.1308000\n",
              "Ref_maritalWidowed/Divorced/Separated           0.34796110  2.1841266\n",
              "Cotinine_grouphigh:BMI_groupobese               1.23349127  3.3764918\n",
              "Cotinine_grouplow:BMI_groupobese                1.28826029  3.1790108\n",
              "Cotinine_grouphigh:BMI_groupoverweight          1.02839906  2.0176053\n",
              "Cotinine_grouplow:BMI_groupoverweight           0.91019765  2.1201816\n",
              "Cotinine_grouphigh:BMI_groupunder/normal weight 0.94734837  1.4714733"
            ]
          },
          "metadata": {}
        }
      ]
    },
    {
      "cell_type": "code",
      "source": [
        "\n",
        "#Run adjusted model for interaction term- FEMALES\n",
        "unadjust<-svyglm(Asthma_bin~Cotinine_group:BMI_group+Age_y+Ethnicity+Ref_gend+Ref_marital , design=model3, family=binomial)\n",
        "summary(unadjust)\n",
        "#get OR and 95% CI\n",
        "exp(unadjust$coefficients)\n",
        "exp(confint(unadjust))\n"
      ],
      "metadata": {
        "colab": {
          "base_uri": "https://localhost:8080/",
          "height": 1000
        },
        "id": "833LZnE7zmmv",
        "outputId": "e20ef56c-d68b-4a5d-d580-5199bbdc012a"
      },
      "execution_count": null,
      "outputs": [
        {
          "output_type": "stream",
          "name": "stderr",
          "text": [
            "Warning message in eval(family$initialize):\n",
            "“non-integer #successes in a binomial glm!”\n"
          ]
        },
        {
          "output_type": "display_data",
          "data": {
            "text/plain": [
              "\n",
              "Call:\n",
              "svyglm(formula = Asthma_bin ~ Cotinine_group:BMI_group + Age_y + \n",
              "    Ethnicity + Ref_gend + Ref_marital, design = model3, family = binomial)\n",
              "\n",
              "Survey design:\n",
              "svydesign(id = ~SDMVPSU, strata = ~SDMVSTRA, weight = ~WTMEC2YR, \n",
              "    data = data_females, nest = TRUE)\n",
              "\n",
              "Coefficients: (1 not defined because of singularities)\n",
              "                                                  Estimate Std. Error t value\n",
              "(Intercept)                                      -2.918055   0.275070 -10.608\n",
              "Age_y                                             0.078238   0.018374   4.258\n",
              "EthnicityNon-Hispanic Black                       0.572093   0.140901   4.060\n",
              "EthnicityNon-Hispanic White                       0.304467   0.145017   2.100\n",
              "EthnicityOther Hispanic                           0.804247   0.171931   4.678\n",
              "EthnicityOther Race - Including Multi-Rac         0.521043   0.189663   2.747\n",
              "Ref_gendMale                                     -0.161500   0.129395  -1.248\n",
              "Ref_maritalDon't Know                           -12.017245   0.763765 -15.734\n",
              "Ref_maritalLiving with partner                    0.087880   0.263677   0.333\n",
              "Ref_maritalMarried                               -0.222739   0.204011  -1.092\n",
              "Ref_maritalMarried/Living with partner            0.002781   0.312988   0.009\n",
              "Ref_maritalNever married                          0.131770   0.226144   0.583\n",
              "Ref_maritalNever Married                          0.170169   0.367325   0.463\n",
              "Ref_maritalRefused                               -0.069597   0.598833  -0.116\n",
              "Ref_maritalSeparated                             -0.308836   0.274779  -1.124\n",
              "Ref_maritalWidowed                               -0.422354   0.364234  -1.160\n",
              "Ref_maritalWidowed/Divorced/Separated             0.250935   0.398904   0.629\n",
              "Cotinine_grouphigh:BMI_groupobese                 0.707626   0.263371   2.687\n",
              "Cotinine_grouplow:BMI_groupobese                  0.685124   0.325525   2.105\n",
              "Cotinine_grouphigh:BMI_groupoverweight            0.508541   0.219371   2.318\n",
              "Cotinine_grouplow:BMI_groupoverweight             0.624092   0.245889   2.538\n",
              "Cotinine_grouphigh:BMI_groupunder/normal weight   0.200073   0.118078   1.694\n",
              "                                                Pr(>|t|)    \n",
              "(Intercept)                                      < 2e-16 ***\n",
              "Age_y                                           4.19e-05 ***\n",
              "EthnicityNon-Hispanic Black                     8.89e-05 ***\n",
              "EthnicityNon-Hispanic White                      0.03792 *  \n",
              "EthnicityOther Hispanic                         7.85e-06 ***\n",
              "EthnicityOther Race - Including Multi-Rac        0.00696 ** \n",
              "Ref_gendMale                                     0.21448    \n",
              "Ref_maritalDon't Know                            < 2e-16 ***\n",
              "Ref_maritalLiving with partner                   0.73951    \n",
              "Ref_maritalMarried                               0.27717    \n",
              "Ref_maritalMarried/Living with partner           0.99293    \n",
              "Ref_maritalNever married                         0.56123    \n",
              "Ref_maritalNever Married                         0.64404    \n",
              "Ref_maritalRefused                               0.90768    \n",
              "Ref_maritalSeparated                             0.26334    \n",
              "Ref_maritalWidowed                               0.24859    \n",
              "Ref_maritalWidowed/Divorced/Separated            0.53053    \n",
              "Cotinine_grouphigh:BMI_groupobese                0.00826 ** \n",
              "Cotinine_grouplow:BMI_groupobese                 0.03746 *  \n",
              "Cotinine_grouphigh:BMI_groupoverweight           0.02218 *  \n",
              "Cotinine_grouplow:BMI_groupoverweight            0.01246 *  \n",
              "Cotinine_grouphigh:BMI_groupunder/normal weight  0.09285 .  \n",
              "---\n",
              "Signif. codes:  0 ‘***’ 0.001 ‘**’ 0.01 ‘*’ 0.05 ‘.’ 0.1 ‘ ’ 1\n",
              "\n",
              "(Dispersion parameter for binomial family taken to be 0.9977428)\n",
              "\n",
              "Number of Fisher Scoring iterations: 12\n"
            ]
          },
          "metadata": {}
        },
        {
          "output_type": "display_data",
          "data": {
            "text/html": [
              "<style>\n",
              ".dl-inline {width: auto; margin:0; padding: 0}\n",
              ".dl-inline>dt, .dl-inline>dd {float: none; width: auto; display: inline-block}\n",
              ".dl-inline>dt::after {content: \":\\0020\"; padding-right: .5ex}\n",
              ".dl-inline>dt:not(:first-of-type) {padding-left: .5ex}\n",
              "</style><dl class=dl-inline><dt>(Intercept)</dt><dd>0.0540387061233902</dd><dt>Age_y</dt><dd>1.08138013313186</dd><dt>EthnicityNon-Hispanic Black</dt><dd>1.77197254362889</dd><dt>EthnicityNon-Hispanic White</dt><dd>1.35590210460293</dd><dt>EthnicityOther Hispanic</dt><dd>2.23501336452132</dd><dt>EthnicityOther Race - Including Multi-Rac</dt><dd>1.6837831119661</dd><dt>Ref_gendMale</dt><dd>0.850866634633362</dd><dt>Ref_maritalDon't Know</dt><dd>6.03916352648141e-06</dd><dt>Ref_maritalLiving with partner</dt><dd>1.09185755690288</dd><dt>Ref_maritalMarried</dt><dd>0.800323954868124</dd><dt>Ref_maritalMarried/Living with partner</dt><dd>1.0027845782797</dd><dt>Ref_maritalNever married</dt><dd>1.14084626409198</dd><dt>Ref_maritalNever Married</dt><dd>1.18550473011016</dd><dt>Ref_maritalRefused</dt><dd>0.932769656596912</dd><dt>Ref_maritalSeparated</dt><dd>0.73430125351971</dd><dt>Ref_maritalWidowed</dt><dd>0.655501786011851</dd><dt>Ref_maritalWidowed/Divorced/Separated</dt><dd>1.28522714668174</dd><dt>Cotinine_grouphigh:BMI_groupobese</dt><dd>2.02916910446671</dd><dt>Cotinine_grouplow:BMI_groupobese</dt><dd>1.98401787192399</dd><dt>Cotinine_grouphigh:BMI_groupoverweight</dt><dd>1.6628625508812</dd><dt>Cotinine_grouplow:BMI_groupoverweight</dt><dd>1.86654963389387</dd><dt>Cotinine_grouphigh:BMI_groupunder/normal weight</dt><dd>1.22149167745811</dd><dt>Cotinine_grouplow:BMI_groupunder/normal weight</dt><dd>&lt;NA&gt;</dd></dl>\n"
            ],
            "text/markdown": "(Intercept)\n:   0.0540387061233902Age_y\n:   1.08138013313186EthnicityNon-Hispanic Black\n:   1.77197254362889EthnicityNon-Hispanic White\n:   1.35590210460293EthnicityOther Hispanic\n:   2.23501336452132EthnicityOther Race - Including Multi-Rac\n:   1.6837831119661Ref_gendMale\n:   0.850866634633362Ref_maritalDon't Know\n:   6.03916352648141e-06Ref_maritalLiving with partner\n:   1.09185755690288Ref_maritalMarried\n:   0.800323954868124Ref_maritalMarried/Living with partner\n:   1.0027845782797Ref_maritalNever married\n:   1.14084626409198Ref_maritalNever Married\n:   1.18550473011016Ref_maritalRefused\n:   0.932769656596912Ref_maritalSeparated\n:   0.73430125351971Ref_maritalWidowed\n:   0.655501786011851Ref_maritalWidowed/Divorced/Separated\n:   1.28522714668174Cotinine_grouphigh:BMI_groupobese\n:   2.02916910446671Cotinine_grouplow:BMI_groupobese\n:   1.98401787192399Cotinine_grouphigh:BMI_groupoverweight\n:   1.6628625508812Cotinine_grouplow:BMI_groupoverweight\n:   1.86654963389387Cotinine_grouphigh:BMI_groupunder/normal weight\n:   1.22149167745811Cotinine_grouplow:BMI_groupunder/normal weight\n:   &lt;NA&gt;\n\n",
            "text/latex": "\\begin{description*}\n\\item[(Intercept)] 0.0540387061233902\n\\item[Age\\textbackslash{}\\_y] 1.08138013313186\n\\item[EthnicityNon-Hispanic Black] 1.77197254362889\n\\item[EthnicityNon-Hispanic White] 1.35590210460293\n\\item[EthnicityOther Hispanic] 2.23501336452132\n\\item[EthnicityOther Race - Including Multi-Rac] 1.6837831119661\n\\item[Ref\\textbackslash{}\\_gendMale] 0.850866634633362\n\\item[Ref\\textbackslash{}\\_maritalDon't Know] 6.03916352648141e-06\n\\item[Ref\\textbackslash{}\\_maritalLiving with partner] 1.09185755690288\n\\item[Ref\\textbackslash{}\\_maritalMarried] 0.800323954868124\n\\item[Ref\\textbackslash{}\\_maritalMarried/Living with partner] 1.0027845782797\n\\item[Ref\\textbackslash{}\\_maritalNever married] 1.14084626409198\n\\item[Ref\\textbackslash{}\\_maritalNever Married] 1.18550473011016\n\\item[Ref\\textbackslash{}\\_maritalRefused] 0.932769656596912\n\\item[Ref\\textbackslash{}\\_maritalSeparated] 0.73430125351971\n\\item[Ref\\textbackslash{}\\_maritalWidowed] 0.655501786011851\n\\item[Ref\\textbackslash{}\\_maritalWidowed/Divorced/Separated] 1.28522714668174\n\\item[Cotinine\\textbackslash{}\\_grouphigh:BMI\\textbackslash{}\\_groupobese] 2.02916910446671\n\\item[Cotinine\\textbackslash{}\\_grouplow:BMI\\textbackslash{}\\_groupobese] 1.98401787192399\n\\item[Cotinine\\textbackslash{}\\_grouphigh:BMI\\textbackslash{}\\_groupoverweight] 1.6628625508812\n\\item[Cotinine\\textbackslash{}\\_grouplow:BMI\\textbackslash{}\\_groupoverweight] 1.86654963389387\n\\item[Cotinine\\textbackslash{}\\_grouphigh:BMI\\textbackslash{}\\_groupunder/normal weight] 1.22149167745811\n\\item[Cotinine\\textbackslash{}\\_grouplow:BMI\\textbackslash{}\\_groupunder/normal weight] <NA>\n\\end{description*}\n",
            "text/plain": [
              "                                    (Intercept) \n",
              "                                   5.403871e-02 \n",
              "                                          Age_y \n",
              "                                   1.081380e+00 \n",
              "                    EthnicityNon-Hispanic Black \n",
              "                                   1.771973e+00 \n",
              "                    EthnicityNon-Hispanic White \n",
              "                                   1.355902e+00 \n",
              "                        EthnicityOther Hispanic \n",
              "                                   2.235013e+00 \n",
              "      EthnicityOther Race - Including Multi-Rac \n",
              "                                   1.683783e+00 \n",
              "                                   Ref_gendMale \n",
              "                                   8.508666e-01 \n",
              "                          Ref_maritalDon't Know \n",
              "                                   6.039164e-06 \n",
              "                 Ref_maritalLiving with partner \n",
              "                                   1.091858e+00 \n",
              "                             Ref_maritalMarried \n",
              "                                   8.003240e-01 \n",
              "         Ref_maritalMarried/Living with partner \n",
              "                                   1.002785e+00 \n",
              "                       Ref_maritalNever married \n",
              "                                   1.140846e+00 \n",
              "                       Ref_maritalNever Married \n",
              "                                   1.185505e+00 \n",
              "                             Ref_maritalRefused \n",
              "                                   9.327697e-01 \n",
              "                           Ref_maritalSeparated \n",
              "                                   7.343013e-01 \n",
              "                             Ref_maritalWidowed \n",
              "                                   6.555018e-01 \n",
              "          Ref_maritalWidowed/Divorced/Separated \n",
              "                                   1.285227e+00 \n",
              "              Cotinine_grouphigh:BMI_groupobese \n",
              "                                   2.029169e+00 \n",
              "               Cotinine_grouplow:BMI_groupobese \n",
              "                                   1.984018e+00 \n",
              "         Cotinine_grouphigh:BMI_groupoverweight \n",
              "                                   1.662863e+00 \n",
              "          Cotinine_grouplow:BMI_groupoverweight \n",
              "                                   1.866550e+00 \n",
              "Cotinine_grouphigh:BMI_groupunder/normal weight \n",
              "                                   1.221492e+00 \n",
              " Cotinine_grouplow:BMI_groupunder/normal weight \n",
              "                                             NA "
            ]
          },
          "metadata": {}
        },
        {
          "output_type": "display_data",
          "data": {
            "text/html": [
              "<table class=\"dataframe\">\n",
              "<caption>A matrix: 22 × 2 of type dbl</caption>\n",
              "<thead>\n",
              "\t<tr><th></th><th scope=col>2.5 %</th><th scope=col>97.5 %</th></tr>\n",
              "</thead>\n",
              "<tbody>\n",
              "\t<tr><th scope=row>(Intercept)</th><td>3.134134e-02</td><td>9.317349e-02</td></tr>\n",
              "\t<tr><th scope=row>Age_y</th><td>1.042737e+00</td><td>1.121455e+00</td></tr>\n",
              "\t<tr><th scope=row>EthnicityNon-Hispanic Black</th><td>1.340506e+00</td><td>2.342315e+00</td></tr>\n",
              "\t<tr><th scope=row>EthnicityNon-Hispanic White</th><td>1.017419e+00</td><td>1.806994e+00</td></tr>\n",
              "\t<tr><th scope=row>EthnicityOther Hispanic</th><td>1.590020e+00</td><td>3.141648e+00</td></tr>\n",
              "\t<tr><th scope=row>EthnicityOther Race - Including Multi-Rac</th><td>1.156531e+00</td><td>2.451405e+00</td></tr>\n",
              "\t<tr><th scope=row>Ref_gendMale</th><td>6.585198e-01</td><td>1.099396e+00</td></tr>\n",
              "\t<tr><th scope=row>Ref_maritalDon't Know</th><td>1.330652e-06</td><td>2.740873e-05</td></tr>\n",
              "\t<tr><th scope=row>Ref_maritalLiving with partner</th><td>6.477059e-01</td><td>1.840578e+00</td></tr>\n",
              "\t<tr><th scope=row>Ref_maritalMarried</th><td>5.343136e-01</td><td>1.198769e+00</td></tr>\n",
              "\t<tr><th scope=row>Ref_maritalMarried/Living with partner</th><td>5.395196e-01</td><td>1.863838e+00</td></tr>\n",
              "\t<tr><th scope=row>Ref_maritalNever married</th><td>7.289888e-01</td><td>1.785391e+00</td></tr>\n",
              "\t<tr><th scope=row>Ref_maritalNever Married</th><td>5.727537e-01</td><td>2.453797e+00</td></tr>\n",
              "\t<tr><th scope=row>Ref_maritalRefused</th><td>2.849178e-01</td><td>3.053720e+00</td></tr>\n",
              "\t<tr><th scope=row>Ref_maritalSeparated</th><td>4.261251e-01</td><td>1.265352e+00</td></tr>\n",
              "\t<tr><th scope=row>Ref_maritalWidowed</th><td>3.186377e-01</td><td>1.348499e+00</td></tr>\n",
              "\t<tr><th scope=row>Ref_maritalWidowed/Divorced/Separated</th><td>5.832891e-01</td><td>2.831887e+00</td></tr>\n",
              "\t<tr><th scope=row>Cotinine_grouphigh:BMI_groupobese</th><td>1.204463e+00</td><td>3.418558e+00</td></tr>\n",
              "\t<tr><th scope=row>Cotinine_grouplow:BMI_groupobese</th><td>1.041267e+00</td><td>3.780323e+00</td></tr>\n",
              "\t<tr><th scope=row>Cotinine_grouphigh:BMI_groupoverweight</th><td>1.076901e+00</td><td>2.567657e+00</td></tr>\n",
              "\t<tr><th scope=row>Cotinine_grouplow:BMI_groupoverweight</th><td>1.146968e+00</td><td>3.037582e+00</td></tr>\n",
              "\t<tr><th scope=row>Cotinine_grouphigh:BMI_groupunder/normal weight</th><td>9.667890e-01</td><td>1.543296e+00</td></tr>\n",
              "</tbody>\n",
              "</table>\n"
            ],
            "text/markdown": "\nA matrix: 22 × 2 of type dbl\n\n| <!--/--> | 2.5 % | 97.5 % |\n|---|---|---|\n| (Intercept) | 3.134134e-02 | 9.317349e-02 |\n| Age_y | 1.042737e+00 | 1.121455e+00 |\n| EthnicityNon-Hispanic Black | 1.340506e+00 | 2.342315e+00 |\n| EthnicityNon-Hispanic White | 1.017419e+00 | 1.806994e+00 |\n| EthnicityOther Hispanic | 1.590020e+00 | 3.141648e+00 |\n| EthnicityOther Race - Including Multi-Rac | 1.156531e+00 | 2.451405e+00 |\n| Ref_gendMale | 6.585198e-01 | 1.099396e+00 |\n| Ref_maritalDon't Know | 1.330652e-06 | 2.740873e-05 |\n| Ref_maritalLiving with partner | 6.477059e-01 | 1.840578e+00 |\n| Ref_maritalMarried | 5.343136e-01 | 1.198769e+00 |\n| Ref_maritalMarried/Living with partner | 5.395196e-01 | 1.863838e+00 |\n| Ref_maritalNever married | 7.289888e-01 | 1.785391e+00 |\n| Ref_maritalNever Married | 5.727537e-01 | 2.453797e+00 |\n| Ref_maritalRefused | 2.849178e-01 | 3.053720e+00 |\n| Ref_maritalSeparated | 4.261251e-01 | 1.265352e+00 |\n| Ref_maritalWidowed | 3.186377e-01 | 1.348499e+00 |\n| Ref_maritalWidowed/Divorced/Separated | 5.832891e-01 | 2.831887e+00 |\n| Cotinine_grouphigh:BMI_groupobese | 1.204463e+00 | 3.418558e+00 |\n| Cotinine_grouplow:BMI_groupobese | 1.041267e+00 | 3.780323e+00 |\n| Cotinine_grouphigh:BMI_groupoverweight | 1.076901e+00 | 2.567657e+00 |\n| Cotinine_grouplow:BMI_groupoverweight | 1.146968e+00 | 3.037582e+00 |\n| Cotinine_grouphigh:BMI_groupunder/normal weight | 9.667890e-01 | 1.543296e+00 |\n\n",
            "text/latex": "A matrix: 22 × 2 of type dbl\n\\begin{tabular}{r|ll}\n  & 2.5 \\% & 97.5 \\%\\\\\n\\hline\n\t(Intercept) & 3.134134e-02 & 9.317349e-02\\\\\n\tAge\\_y & 1.042737e+00 & 1.121455e+00\\\\\n\tEthnicityNon-Hispanic Black & 1.340506e+00 & 2.342315e+00\\\\\n\tEthnicityNon-Hispanic White & 1.017419e+00 & 1.806994e+00\\\\\n\tEthnicityOther Hispanic & 1.590020e+00 & 3.141648e+00\\\\\n\tEthnicityOther Race - Including Multi-Rac & 1.156531e+00 & 2.451405e+00\\\\\n\tRef\\_gendMale & 6.585198e-01 & 1.099396e+00\\\\\n\tRef\\_maritalDon't Know & 1.330652e-06 & 2.740873e-05\\\\\n\tRef\\_maritalLiving with partner & 6.477059e-01 & 1.840578e+00\\\\\n\tRef\\_maritalMarried & 5.343136e-01 & 1.198769e+00\\\\\n\tRef\\_maritalMarried/Living with partner & 5.395196e-01 & 1.863838e+00\\\\\n\tRef\\_maritalNever married & 7.289888e-01 & 1.785391e+00\\\\\n\tRef\\_maritalNever Married & 5.727537e-01 & 2.453797e+00\\\\\n\tRef\\_maritalRefused & 2.849178e-01 & 3.053720e+00\\\\\n\tRef\\_maritalSeparated & 4.261251e-01 & 1.265352e+00\\\\\n\tRef\\_maritalWidowed & 3.186377e-01 & 1.348499e+00\\\\\n\tRef\\_maritalWidowed/Divorced/Separated & 5.832891e-01 & 2.831887e+00\\\\\n\tCotinine\\_grouphigh:BMI\\_groupobese & 1.204463e+00 & 3.418558e+00\\\\\n\tCotinine\\_grouplow:BMI\\_groupobese & 1.041267e+00 & 3.780323e+00\\\\\n\tCotinine\\_grouphigh:BMI\\_groupoverweight & 1.076901e+00 & 2.567657e+00\\\\\n\tCotinine\\_grouplow:BMI\\_groupoverweight & 1.146968e+00 & 3.037582e+00\\\\\n\tCotinine\\_grouphigh:BMI\\_groupunder/normal weight & 9.667890e-01 & 1.543296e+00\\\\\n\\end{tabular}\n",
            "text/plain": [
              "                                                2.5 %        97.5 %      \n",
              "(Intercept)                                     3.134134e-02 9.317349e-02\n",
              "Age_y                                           1.042737e+00 1.121455e+00\n",
              "EthnicityNon-Hispanic Black                     1.340506e+00 2.342315e+00\n",
              "EthnicityNon-Hispanic White                     1.017419e+00 1.806994e+00\n",
              "EthnicityOther Hispanic                         1.590020e+00 3.141648e+00\n",
              "EthnicityOther Race - Including Multi-Rac       1.156531e+00 2.451405e+00\n",
              "Ref_gendMale                                    6.585198e-01 1.099396e+00\n",
              "Ref_maritalDon't Know                           1.330652e-06 2.740873e-05\n",
              "Ref_maritalLiving with partner                  6.477059e-01 1.840578e+00\n",
              "Ref_maritalMarried                              5.343136e-01 1.198769e+00\n",
              "Ref_maritalMarried/Living with partner          5.395196e-01 1.863838e+00\n",
              "Ref_maritalNever married                        7.289888e-01 1.785391e+00\n",
              "Ref_maritalNever Married                        5.727537e-01 2.453797e+00\n",
              "Ref_maritalRefused                              2.849178e-01 3.053720e+00\n",
              "Ref_maritalSeparated                            4.261251e-01 1.265352e+00\n",
              "Ref_maritalWidowed                              3.186377e-01 1.348499e+00\n",
              "Ref_maritalWidowed/Divorced/Separated           5.832891e-01 2.831887e+00\n",
              "Cotinine_grouphigh:BMI_groupobese               1.204463e+00 3.418558e+00\n",
              "Cotinine_grouplow:BMI_groupobese                1.041267e+00 3.780323e+00\n",
              "Cotinine_grouphigh:BMI_groupoverweight          1.076901e+00 2.567657e+00\n",
              "Cotinine_grouplow:BMI_groupoverweight           1.146968e+00 3.037582e+00\n",
              "Cotinine_grouphigh:BMI_groupunder/normal weight 9.667890e-01 1.543296e+00"
            ]
          },
          "metadata": {}
        }
      ]
    }
  ],
  "metadata": {
    "colab": {
      "provenance": [],
      "toc_visible": true,
      "include_colab_link": true
    },
    "kernelspec": {
      "display_name": "R",
      "name": "ir"
    },
    "language_info": {
      "name": "R"
    }
  },
  "nbformat": 4,
  "nbformat_minor": 0
}